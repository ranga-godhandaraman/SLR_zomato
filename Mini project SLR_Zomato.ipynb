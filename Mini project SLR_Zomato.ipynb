{
 "cells": [
  {
   "cell_type": "markdown",
   "id": "0e18acb0",
   "metadata": {},
   "source": [
    "# Step 1: Understand the business problem."
   ]
  },
  {
   "cell_type": "markdown",
   "id": "aa24aa03",
   "metadata": {},
   "source": [
    "1. URL - Website of the Zomato for each restaurant. - Object datatype\n",
    "2. Address - Address of the Restaurant. - Object datatype\n",
    "3. Name - Name of the restaurant. - Object datatype\n",
    "4. Online Order - The customer ordered the menu online or not. - Object datatype\n",
    "5. Book table - The customer has booked the table or not. - Object datatype\n",
    "6. Rate - Rating of the restaurant that has by the customer. - Numerical datatype\n",
    "7. Votes - The votes have been given by the customer to the restaurant. - Numerical \n",
    "datatype\n",
    "8. Phone - Contact number of the Restaurant. - Object datatype\n",
    "9. Location - The city name where the restaurant is located. - Object datatype\n",
    "10. Rest Type - The type of restaurant. - Object datatype\n",
    "11. Dish liked - Dishes liked by the customer from the restaurant. - Object datatype\n",
    "12. Cuisines - The cuisines that have been prepared by the restaurant. - Object datatype\n",
    "13. Approx Cost for two people - The approximate cost of the customer for 2 people. -\n",
    "Number datatype\n",
    "14. Reviews list - The reviews made by the customers on the restaurant. - Object \n",
    "datatype\n",
    "15. Menu Item - The menu items that are usually available at the restaurant. - Object \n",
    "datatype\n",
    "16. Listed in (type) - Contains the type of the meal. - Object datatype\n",
    "17. Listed in (city) - This contains the neighborhood in which the restaurant is listed. -\n",
    "Object datatype"
   ]
  },
  {
   "cell_type": "code",
   "execution_count": 2,
   "id": "04576f6e",
   "metadata": {},
   "outputs": [],
   "source": [
    "import pandas as pd\n",
    "import numpy as np\n",
    "\n",
    "import matplotlib.pyplot as plt\n",
    "import seaborn as sns\n",
    "\n",
    "import warnings\n",
    "warnings.filterwarnings(\"ignore\")\n",
    "\n",
    "# display all columns of the dataframe\n",
    "pd.options.display.max_columns = None\n",
    "\n",
    "# display all rows of the dataframe\n",
    "pd.options.display.max_rows = None\n",
    " \n",
    "# to display the float values upto 6 decimal places     \n",
    "pd.options.display.float_format = '{:.6f}'.format\n",
    "from statsmodels.tools.eval_measures import rmse\n",
    "from sklearn.metrics import mean_absolute_error\n",
    "from sklearn.metrics import mean_squared_error\n",
    "from sklearn.preprocessing import StandardScaler\n",
    "from sklearn.linear_model import LinearRegression\n",
    "from sklearn.model_selection import cross_val_score\n",
    "from sklearn.metrics import r2_score\n",
    "import warnings\n",
    "warnings.filterwarnings('ignore')\n",
    "%matplotlib inline\n",
    "\n",
    "from sklearn.linear_model import LinearRegression\n",
    "\n",
    "# import StandardScaler to perform scaling\n",
    "from sklearn.preprocessing import StandardScaler \n",
    "\n",
    "# import SGDRegressor from sklearn to perform linear regression with stochastic gradient descent\n",
    "from sklearn.linear_model import SGDRegressor\n",
    "\n",
    "# import function for ridge regression\n",
    "from sklearn.linear_model import Ridge\n",
    "\n",
    "# import function for lasso regression\n",
    "from sklearn.linear_model import Lasso\n",
    "\n",
    "# import function for elastic net regression\n",
    "from sklearn.linear_model import ElasticNet\n",
    "\n",
    "# import function to perform GridSearchCV\n",
    "from sklearn.model_selection import GridSearchCV\n",
    "\n",
    "from sklearn.feature_selection import SequentialFeatureSelector as sfs"
   ]
  },
  {
   "cell_type": "code",
   "execution_count": 3,
   "id": "f231f116",
   "metadata": {},
   "outputs": [],
   "source": [
    "import re"
   ]
  },
  {
   "cell_type": "markdown",
   "id": "b8bf59e6",
   "metadata": {},
   "source": [
    "# step 2: Read the data and convert the data types.\n",
    "Note: The data set has numerical and categorical data but due to noise(anomaly) in \n",
    "the data, the columns are treated as the object type. And You may feel like converting the \n",
    "features into numerical at this step if not appropriate at this stage, In that case, feel free to \n",
    "convert the variable to the appropriate type in the further step as well based on your way \n",
    "of analyzing the data.\n"
   ]
  },
  {
   "cell_type": "code",
   "execution_count": 4,
   "id": "436aa5c7",
   "metadata": {},
   "outputs": [
    {
     "data": {
      "text/html": [
       "<div>\n",
       "<style scoped>\n",
       "    .dataframe tbody tr th:only-of-type {\n",
       "        vertical-align: middle;\n",
       "    }\n",
       "\n",
       "    .dataframe tbody tr th {\n",
       "        vertical-align: top;\n",
       "    }\n",
       "\n",
       "    .dataframe thead th {\n",
       "        text-align: right;\n",
       "    }\n",
       "</style>\n",
       "<table border=\"1\" class=\"dataframe\">\n",
       "  <thead>\n",
       "    <tr style=\"text-align: right;\">\n",
       "      <th></th>\n",
       "      <th>url</th>\n",
       "      <th>address</th>\n",
       "      <th>name</th>\n",
       "      <th>online_order</th>\n",
       "      <th>book_table</th>\n",
       "      <th>rate</th>\n",
       "      <th>votes</th>\n",
       "      <th>phone</th>\n",
       "      <th>location</th>\n",
       "      <th>rest_type</th>\n",
       "      <th>dish_liked</th>\n",
       "      <th>cuisines</th>\n",
       "      <th>approx_cost(for two people)</th>\n",
       "      <th>reviews_list</th>\n",
       "      <th>menu_item</th>\n",
       "      <th>listed_in(type)</th>\n",
       "      <th>listed_in(city)</th>\n",
       "    </tr>\n",
       "  </thead>\n",
       "  <tbody>\n",
       "    <tr>\n",
       "      <th>0</th>\n",
       "      <td>https://www.zomato.com/bangalore/jalsa-banasha...</td>\n",
       "      <td>942, 21st Main Road, 2nd Stage, Banashankari, ...</td>\n",
       "      <td>Jalsa</td>\n",
       "      <td>Yes</td>\n",
       "      <td>Yes</td>\n",
       "      <td>4.1/5</td>\n",
       "      <td>775</td>\n",
       "      <td>080 42297555\\r\\n+91 9743772233</td>\n",
       "      <td>Banashankari</td>\n",
       "      <td>Casual Dining</td>\n",
       "      <td>Pasta, Lunch Buffet, Masala Papad, Paneer Laja...</td>\n",
       "      <td>North Indian, Mughlai, Chinese</td>\n",
       "      <td>800</td>\n",
       "      <td>[('Rated 4.0', 'RATED\\n  A beautiful place to ...</td>\n",
       "      <td>[]</td>\n",
       "      <td>Buffet</td>\n",
       "      <td>Banashankari</td>\n",
       "    </tr>\n",
       "    <tr>\n",
       "      <th>1</th>\n",
       "      <td>https://www.zomato.com/bangalore/spice-elephan...</td>\n",
       "      <td>2nd Floor, 80 Feet Road, Near Big Bazaar, 6th ...</td>\n",
       "      <td>Spice Elephant</td>\n",
       "      <td>Yes</td>\n",
       "      <td>No</td>\n",
       "      <td>4.1/5</td>\n",
       "      <td>787</td>\n",
       "      <td>080 41714161</td>\n",
       "      <td>Banashankari</td>\n",
       "      <td>Casual Dining</td>\n",
       "      <td>Momos, Lunch Buffet, Chocolate Nirvana, Thai G...</td>\n",
       "      <td>Chinese, North Indian, Thai</td>\n",
       "      <td>800</td>\n",
       "      <td>[('Rated 4.0', 'RATED\\n  Had been here for din...</td>\n",
       "      <td>[]</td>\n",
       "      <td>Buffet</td>\n",
       "      <td>Banashankari</td>\n",
       "    </tr>\n",
       "    <tr>\n",
       "      <th>2</th>\n",
       "      <td>https://www.zomato.com/SanchurroBangalore?cont...</td>\n",
       "      <td>1112, Next to KIMS Medical College, 17th Cross...</td>\n",
       "      <td>San Churro Cafe</td>\n",
       "      <td>Yes</td>\n",
       "      <td>No</td>\n",
       "      <td>3.8/5</td>\n",
       "      <td>918</td>\n",
       "      <td>+91 9663487993</td>\n",
       "      <td>Banashankari</td>\n",
       "      <td>Cafe, Casual Dining</td>\n",
       "      <td>Churros, Cannelloni, Minestrone Soup, Hot Choc...</td>\n",
       "      <td>Cafe, Mexican, Italian</td>\n",
       "      <td>800</td>\n",
       "      <td>[('Rated 3.0', \"RATED\\n  Ambience is not that ...</td>\n",
       "      <td>[]</td>\n",
       "      <td>Buffet</td>\n",
       "      <td>Banashankari</td>\n",
       "    </tr>\n",
       "    <tr>\n",
       "      <th>3</th>\n",
       "      <td>https://www.zomato.com/bangalore/addhuri-udupi...</td>\n",
       "      <td>1st Floor, Annakuteera, 3rd Stage, Banashankar...</td>\n",
       "      <td>Addhuri Udupi Bhojana</td>\n",
       "      <td>No</td>\n",
       "      <td>No</td>\n",
       "      <td>3.7/5</td>\n",
       "      <td>88</td>\n",
       "      <td>+91 9620009302</td>\n",
       "      <td>Banashankari</td>\n",
       "      <td>Quick Bites</td>\n",
       "      <td>Masala Dosa</td>\n",
       "      <td>South Indian, North Indian</td>\n",
       "      <td>300</td>\n",
       "      <td>[('Rated 4.0', \"RATED\\n  Great food and proper...</td>\n",
       "      <td>[]</td>\n",
       "      <td>Buffet</td>\n",
       "      <td>Banashankari</td>\n",
       "    </tr>\n",
       "    <tr>\n",
       "      <th>4</th>\n",
       "      <td>https://www.zomato.com/bangalore/grand-village...</td>\n",
       "      <td>10, 3rd Floor, Lakshmi Associates, Gandhi Baza...</td>\n",
       "      <td>Grand Village</td>\n",
       "      <td>No</td>\n",
       "      <td>No</td>\n",
       "      <td>3.8/5</td>\n",
       "      <td>166</td>\n",
       "      <td>+91 8026612447\\r\\n+91 9901210005</td>\n",
       "      <td>Basavanagudi</td>\n",
       "      <td>Casual Dining</td>\n",
       "      <td>Panipuri, Gol Gappe</td>\n",
       "      <td>North Indian, Rajasthani</td>\n",
       "      <td>600</td>\n",
       "      <td>[('Rated 4.0', 'RATED\\n  Very good restaurant ...</td>\n",
       "      <td>[]</td>\n",
       "      <td>Buffet</td>\n",
       "      <td>Banashankari</td>\n",
       "    </tr>\n",
       "  </tbody>\n",
       "</table>\n",
       "</div>"
      ],
      "text/plain": [
       "                                                 url  \\\n",
       "0  https://www.zomato.com/bangalore/jalsa-banasha...   \n",
       "1  https://www.zomato.com/bangalore/spice-elephan...   \n",
       "2  https://www.zomato.com/SanchurroBangalore?cont...   \n",
       "3  https://www.zomato.com/bangalore/addhuri-udupi...   \n",
       "4  https://www.zomato.com/bangalore/grand-village...   \n",
       "\n",
       "                                             address                   name  \\\n",
       "0  942, 21st Main Road, 2nd Stage, Banashankari, ...                  Jalsa   \n",
       "1  2nd Floor, 80 Feet Road, Near Big Bazaar, 6th ...         Spice Elephant   \n",
       "2  1112, Next to KIMS Medical College, 17th Cross...        San Churro Cafe   \n",
       "3  1st Floor, Annakuteera, 3rd Stage, Banashankar...  Addhuri Udupi Bhojana   \n",
       "4  10, 3rd Floor, Lakshmi Associates, Gandhi Baza...          Grand Village   \n",
       "\n",
       "  online_order book_table   rate  votes                             phone  \\\n",
       "0          Yes        Yes  4.1/5    775    080 42297555\\r\\n+91 9743772233   \n",
       "1          Yes         No  4.1/5    787                      080 41714161   \n",
       "2          Yes         No  3.8/5    918                    +91 9663487993   \n",
       "3           No         No  3.7/5     88                    +91 9620009302   \n",
       "4           No         No  3.8/5    166  +91 8026612447\\r\\n+91 9901210005   \n",
       "\n",
       "       location            rest_type  \\\n",
       "0  Banashankari        Casual Dining   \n",
       "1  Banashankari        Casual Dining   \n",
       "2  Banashankari  Cafe, Casual Dining   \n",
       "3  Banashankari          Quick Bites   \n",
       "4  Basavanagudi        Casual Dining   \n",
       "\n",
       "                                          dish_liked  \\\n",
       "0  Pasta, Lunch Buffet, Masala Papad, Paneer Laja...   \n",
       "1  Momos, Lunch Buffet, Chocolate Nirvana, Thai G...   \n",
       "2  Churros, Cannelloni, Minestrone Soup, Hot Choc...   \n",
       "3                                        Masala Dosa   \n",
       "4                                Panipuri, Gol Gappe   \n",
       "\n",
       "                         cuisines approx_cost(for two people)  \\\n",
       "0  North Indian, Mughlai, Chinese                         800   \n",
       "1     Chinese, North Indian, Thai                         800   \n",
       "2          Cafe, Mexican, Italian                         800   \n",
       "3      South Indian, North Indian                         300   \n",
       "4        North Indian, Rajasthani                         600   \n",
       "\n",
       "                                        reviews_list menu_item  \\\n",
       "0  [('Rated 4.0', 'RATED\\n  A beautiful place to ...        []   \n",
       "1  [('Rated 4.0', 'RATED\\n  Had been here for din...        []   \n",
       "2  [('Rated 3.0', \"RATED\\n  Ambience is not that ...        []   \n",
       "3  [('Rated 4.0', \"RATED\\n  Great food and proper...        []   \n",
       "4  [('Rated 4.0', 'RATED\\n  Very good restaurant ...        []   \n",
       "\n",
       "  listed_in(type) listed_in(city)  \n",
       "0          Buffet    Banashankari  \n",
       "1          Buffet    Banashankari  \n",
       "2          Buffet    Banashankari  \n",
       "3          Buffet    Banashankari  \n",
       "4          Buffet    Banashankari  "
      ]
     },
     "execution_count": 4,
     "metadata": {},
     "output_type": "execute_result"
    }
   ],
   "source": [
    "zomato_orgnl=pd.read_csv('zomato.csv')\n",
    "zomato_orgnl.head()"
   ]
  },
  {
   "cell_type": "code",
   "execution_count": 5,
   "id": "67bd3690",
   "metadata": {},
   "outputs": [
    {
     "data": {
      "text/plain": [
       "(51717, 17)"
      ]
     },
     "execution_count": 5,
     "metadata": {},
     "output_type": "execute_result"
    }
   ],
   "source": [
    "zomato_orgnl.shape"
   ]
  },
  {
   "cell_type": "code",
   "execution_count": 6,
   "id": "4a43c6a9",
   "metadata": {},
   "outputs": [
    {
     "name": "stdout",
     "output_type": "stream",
     "text": [
      "<class 'pandas.core.frame.DataFrame'>\n",
      "RangeIndex: 51717 entries, 0 to 51716\n",
      "Data columns (total 17 columns):\n",
      " #   Column                       Non-Null Count  Dtype \n",
      "---  ------                       --------------  ----- \n",
      " 0   url                          51717 non-null  object\n",
      " 1   address                      51717 non-null  object\n",
      " 2   name                         51717 non-null  object\n",
      " 3   online_order                 51717 non-null  object\n",
      " 4   book_table                   51717 non-null  object\n",
      " 5   rate                         43942 non-null  object\n",
      " 6   votes                        51717 non-null  int64 \n",
      " 7   phone                        50509 non-null  object\n",
      " 8   location                     51696 non-null  object\n",
      " 9   rest_type                    51490 non-null  object\n",
      " 10  dish_liked                   23639 non-null  object\n",
      " 11  cuisines                     51672 non-null  object\n",
      " 12  approx_cost(for two people)  51371 non-null  object\n",
      " 13  reviews_list                 51717 non-null  object\n",
      " 14  menu_item                    51717 non-null  object\n",
      " 15  listed_in(type)              51717 non-null  object\n",
      " 16  listed_in(city)              51717 non-null  object\n",
      "dtypes: int64(1), object(16)\n",
      "memory usage: 6.7+ MB\n"
     ]
    }
   ],
   "source": [
    "zomato_orgnl.info()"
   ]
  },
  {
   "cell_type": "code",
   "execution_count": 8,
   "id": "1aa12eb1",
   "metadata": {},
   "outputs": [],
   "source": [
    "# Drop thew columns which doesn't contribute anything to the project\n",
    "zomato=zomato_orgnl.drop(['url','dish_liked','phone'],axis=1)"
   ]
  },
  {
   "cell_type": "code",
   "execution_count": 9,
   "id": "fe6b12a1",
   "metadata": {},
   "outputs": [],
   "source": [
    "#Changing the Columns Names\n",
    "zomato_orgnl.columns\n",
    "zomato = zomato.rename(columns={'approx_cost(for two people)':'cost','listed_in(type)':'type','listed_in(city)':'city'})"
   ]
  },
  {
   "cell_type": "markdown",
   "id": "0215188c",
   "metadata": {},
   "source": [
    "# Cleaning the dataset"
   ]
  },
  {
   "cell_type": "code",
   "execution_count": 10,
   "id": "3e5153bb",
   "metadata": {},
   "outputs": [
    {
     "data": {
      "text/plain": [
       "array(['800', '300', '600', '700', '550', '500', '450', '650', '400',\n",
       "       '900', '200', '750', '150', '850', '100', '1,200', '350', '250',\n",
       "       '950', '1,000', '1,500', '1,300', '199', '80', '1,100', '160',\n",
       "       '1,600', '230', '130', '50', '190', '1,700', nan, '1,400', '180',\n",
       "       '1,350', '2,200', '2,000', '1,800', '1,900', '330', '2,500',\n",
       "       '2,100', '3,000', '2,800', '3,400', '40', '1,250', '3,500',\n",
       "       '4,000', '2,400', '2,600', '120', '1,450', '469', '70', '3,200',\n",
       "       '60', '560', '240', '360', '6,000', '1,050', '2,300', '4,100',\n",
       "       '5,000', '3,700', '1,650', '2,700', '4,500', '140'], dtype=object)"
      ]
     },
     "execution_count": 10,
     "metadata": {},
     "output_type": "execute_result"
    }
   ],
   "source": [
    "zomato['cost'].unique()"
   ]
  },
  {
   "cell_type": "code",
   "execution_count": 11,
   "id": "bc240947",
   "metadata": {
    "scrolled": true
   },
   "outputs": [
    {
     "name": "stdout",
     "output_type": "stream",
     "text": [
      "<class 'pandas.core.frame.DataFrame'>\n",
      "RangeIndex: 51717 entries, 0 to 51716\n",
      "Data columns (total 14 columns):\n",
      " #   Column        Non-Null Count  Dtype  \n",
      "---  ------        --------------  -----  \n",
      " 0   address       51717 non-null  object \n",
      " 1   name          51717 non-null  object \n",
      " 2   online_order  51717 non-null  object \n",
      " 3   book_table    51717 non-null  object \n",
      " 4   rate          43942 non-null  object \n",
      " 5   votes         51717 non-null  int64  \n",
      " 6   location      51696 non-null  object \n",
      " 7   rest_type     51490 non-null  object \n",
      " 8   cuisines      51672 non-null  object \n",
      " 9   cost          51371 non-null  float64\n",
      " 10  reviews_list  51717 non-null  object \n",
      " 11  menu_item     51717 non-null  object \n",
      " 12  type          51717 non-null  object \n",
      " 13  city          51717 non-null  object \n",
      "dtypes: float64(1), int64(1), object(12)\n",
      "memory usage: 5.5+ MB\n"
     ]
    }
   ],
   "source": [
    "zomato['cost'] = zomato['cost'].astype(str)\n",
    "zomato['cost'] = zomato['cost'].apply(lambda x: x.replace(',','.'))\n",
    "zomato['cost'] = zomato['cost'].astype(float)\n",
    "zomato.info()"
   ]
  },
  {
   "cell_type": "code",
   "execution_count": 12,
   "id": "f27b48f4",
   "metadata": {},
   "outputs": [
    {
     "data": {
      "text/plain": [
       "array(['4.1/5', '3.8/5', '3.7/5', '3.6/5', '4.6/5', '4.0/5', '4.2/5',\n",
       "       '3.9/5', '3.1/5', '3.0/5', '3.2/5', '3.3/5', '2.8/5', '4.4/5',\n",
       "       '4.3/5', 'NEW', '2.9/5', '3.5/5', nan, '2.6/5', '3.8 /5', '3.4/5',\n",
       "       '4.5/5', '2.5/5', '2.7/5', '4.7/5', '2.4/5', '2.2/5', '2.3/5',\n",
       "       '3.4 /5', '-', '3.6 /5', '4.8/5', '3.9 /5', '4.2 /5', '4.0 /5',\n",
       "       '4.1 /5', '3.7 /5', '3.1 /5', '2.9 /5', '3.3 /5', '2.8 /5',\n",
       "       '3.5 /5', '2.7 /5', '2.5 /5', '3.2 /5', '2.6 /5', '4.5 /5',\n",
       "       '4.3 /5', '4.4 /5', '4.9/5', '2.1/5', '2.0/5', '1.8/5', '4.6 /5',\n",
       "       '4.9 /5', '3.0 /5', '4.8 /5', '2.3 /5', '4.7 /5', '2.4 /5',\n",
       "       '2.1 /5', '2.2 /5', '2.0 /5', '1.8 /5'], dtype=object)"
      ]
     },
     "execution_count": 12,
     "metadata": {},
     "output_type": "execute_result"
    }
   ],
   "source": [
    "#Reading uninque values from the Rate column\n",
    "zomato['rate'].unique()"
   ]
  },
  {
   "cell_type": "code",
   "execution_count": 13,
   "id": "bb6cce18",
   "metadata": {},
   "outputs": [
    {
     "data": {
      "text/plain": [
       "0   4.100000\n",
       "1   4.100000\n",
       "2   3.800000\n",
       "3   3.700000\n",
       "4   3.800000\n",
       "Name: rate, dtype: float64"
      ]
     },
     "execution_count": 13,
     "metadata": {},
     "output_type": "execute_result"
    }
   ],
   "source": [
    "zomato['rate'].unique()\n",
    "zomato = zomato.loc[zomato.rate !='NEW']\n",
    "zomato = zomato.loc[zomato.rate !='-'].reset_index(drop=True)\n",
    "remove_slash = lambda x: x.replace('/5', '') if type(x) == np.str else x\n",
    "zomato.rate = zomato.rate.apply(remove_slash).str.strip().astype('float')\n",
    "zomato['rate'].head()"
   ]
  },
  {
   "cell_type": "markdown",
   "id": "1170f4a6",
   "metadata": {},
   "source": [
    "# Step 3: Perform the described method for the data, Try to find any essential points from the \n",
    "described analysis. And check the missing values and Duplicate records. Impute the \n",
    "missing values in the best way possible.\n",
    "Note: To impute the missing values with parameters, You must find the best parameter.\n",
    "Hints:\n",
    "● Check the distribution using plots. And check the Skewness, Kurtosis and etc."
   ]
  },
  {
   "cell_type": "code",
   "execution_count": 14,
   "id": "3e53a65b",
   "metadata": {},
   "outputs": [
    {
     "data": {
      "text/html": [
       "<div>\n",
       "<style scoped>\n",
       "    .dataframe tbody tr th:only-of-type {\n",
       "        vertical-align: middle;\n",
       "    }\n",
       "\n",
       "    .dataframe tbody tr th {\n",
       "        vertical-align: top;\n",
       "    }\n",
       "\n",
       "    .dataframe thead th {\n",
       "        text-align: right;\n",
       "    }\n",
       "</style>\n",
       "<table border=\"1\" class=\"dataframe\">\n",
       "  <thead>\n",
       "    <tr style=\"text-align: right;\">\n",
       "      <th></th>\n",
       "      <th>rate</th>\n",
       "      <th>votes</th>\n",
       "      <th>cost</th>\n",
       "    </tr>\n",
       "  </thead>\n",
       "  <tbody>\n",
       "    <tr>\n",
       "      <th>count</th>\n",
       "      <td>41665.000000</td>\n",
       "      <td>49440.000000</td>\n",
       "      <td>49099.000000</td>\n",
       "    </tr>\n",
       "    <tr>\n",
       "      <th>mean</th>\n",
       "      <td>3.700449</td>\n",
       "      <td>296.763451</td>\n",
       "      <td>361.297400</td>\n",
       "    </tr>\n",
       "    <tr>\n",
       "      <th>std</th>\n",
       "      <td>0.440513</td>\n",
       "      <td>819.779986</td>\n",
       "      <td>231.111464</td>\n",
       "    </tr>\n",
       "    <tr>\n",
       "      <th>min</th>\n",
       "      <td>1.800000</td>\n",
       "      <td>0.000000</td>\n",
       "      <td>1.000000</td>\n",
       "    </tr>\n",
       "    <tr>\n",
       "      <th>25%</th>\n",
       "      <td>3.400000</td>\n",
       "      <td>9.000000</td>\n",
       "      <td>200.000000</td>\n",
       "    </tr>\n",
       "    <tr>\n",
       "      <th>50%</th>\n",
       "      <td>3.700000</td>\n",
       "      <td>47.000000</td>\n",
       "      <td>350.000000</td>\n",
       "    </tr>\n",
       "    <tr>\n",
       "      <th>75%</th>\n",
       "      <td>4.000000</td>\n",
       "      <td>212.000000</td>\n",
       "      <td>500.000000</td>\n",
       "    </tr>\n",
       "    <tr>\n",
       "      <th>max</th>\n",
       "      <td>4.900000</td>\n",
       "      <td>16832.000000</td>\n",
       "      <td>950.000000</td>\n",
       "    </tr>\n",
       "  </tbody>\n",
       "</table>\n",
       "</div>"
      ],
      "text/plain": [
       "              rate        votes         cost\n",
       "count 41665.000000 49440.000000 49099.000000\n",
       "mean      3.700449   296.763451   361.297400\n",
       "std       0.440513   819.779986   231.111464\n",
       "min       1.800000     0.000000     1.000000\n",
       "25%       3.400000     9.000000   200.000000\n",
       "50%       3.700000    47.000000   350.000000\n",
       "75%       4.000000   212.000000   500.000000\n",
       "max       4.900000 16832.000000   950.000000"
      ]
     },
     "execution_count": 14,
     "metadata": {},
     "output_type": "execute_result"
    }
   ],
   "source": [
    "zomato.describe()"
   ]
  },
  {
   "cell_type": "code",
   "execution_count": 15,
   "id": "e15a92c0",
   "metadata": {},
   "outputs": [
    {
     "data": {
      "text/html": [
       "<div>\n",
       "<style scoped>\n",
       "    .dataframe tbody tr th:only-of-type {\n",
       "        vertical-align: middle;\n",
       "    }\n",
       "\n",
       "    .dataframe tbody tr th {\n",
       "        vertical-align: top;\n",
       "    }\n",
       "\n",
       "    .dataframe thead th {\n",
       "        text-align: right;\n",
       "    }\n",
       "</style>\n",
       "<table border=\"1\" class=\"dataframe\">\n",
       "  <thead>\n",
       "    <tr style=\"text-align: right;\">\n",
       "      <th></th>\n",
       "      <th>count</th>\n",
       "      <th>unique</th>\n",
       "      <th>top</th>\n",
       "      <th>freq</th>\n",
       "    </tr>\n",
       "  </thead>\n",
       "  <tbody>\n",
       "    <tr>\n",
       "      <th>address</th>\n",
       "      <td>49440</td>\n",
       "      <td>11050</td>\n",
       "      <td>Delivery Only</td>\n",
       "      <td>119</td>\n",
       "    </tr>\n",
       "    <tr>\n",
       "      <th>name</th>\n",
       "      <td>49440</td>\n",
       "      <td>8458</td>\n",
       "      <td>Cafe Coffee Day</td>\n",
       "      <td>93</td>\n",
       "    </tr>\n",
       "    <tr>\n",
       "      <th>online_order</th>\n",
       "      <td>49440</td>\n",
       "      <td>2</td>\n",
       "      <td>Yes</td>\n",
       "      <td>29342</td>\n",
       "    </tr>\n",
       "    <tr>\n",
       "      <th>book_table</th>\n",
       "      <td>49440</td>\n",
       "      <td>2</td>\n",
       "      <td>No</td>\n",
       "      <td>43120</td>\n",
       "    </tr>\n",
       "    <tr>\n",
       "      <th>location</th>\n",
       "      <td>49419</td>\n",
       "      <td>93</td>\n",
       "      <td>BTM</td>\n",
       "      <td>4793</td>\n",
       "    </tr>\n",
       "    <tr>\n",
       "      <th>rest_type</th>\n",
       "      <td>49215</td>\n",
       "      <td>93</td>\n",
       "      <td>Quick Bites</td>\n",
       "      <td>18003</td>\n",
       "    </tr>\n",
       "    <tr>\n",
       "      <th>cuisines</th>\n",
       "      <td>49395</td>\n",
       "      <td>2632</td>\n",
       "      <td>North Indian</td>\n",
       "      <td>2777</td>\n",
       "    </tr>\n",
       "    <tr>\n",
       "      <th>reviews_list</th>\n",
       "      <td>49440</td>\n",
       "      <td>22070</td>\n",
       "      <td>[]</td>\n",
       "      <td>6395</td>\n",
       "    </tr>\n",
       "    <tr>\n",
       "      <th>menu_item</th>\n",
       "      <td>49440</td>\n",
       "      <td>8784</td>\n",
       "      <td>[]</td>\n",
       "      <td>37758</td>\n",
       "    </tr>\n",
       "    <tr>\n",
       "      <th>type</th>\n",
       "      <td>49440</td>\n",
       "      <td>7</td>\n",
       "      <td>Delivery</td>\n",
       "      <td>24728</td>\n",
       "    </tr>\n",
       "    <tr>\n",
       "      <th>city</th>\n",
       "      <td>49440</td>\n",
       "      <td>30</td>\n",
       "      <td>BTM</td>\n",
       "      <td>3108</td>\n",
       "    </tr>\n",
       "  </tbody>\n",
       "</table>\n",
       "</div>"
      ],
      "text/plain": [
       "              count unique              top   freq\n",
       "address       49440  11050    Delivery Only    119\n",
       "name          49440   8458  Cafe Coffee Day     93\n",
       "online_order  49440      2              Yes  29342\n",
       "book_table    49440      2               No  43120\n",
       "location      49419     93              BTM   4793\n",
       "rest_type     49215     93      Quick Bites  18003\n",
       "cuisines      49395   2632     North Indian   2777\n",
       "reviews_list  49440  22070               []   6395\n",
       "menu_item     49440   8784               []  37758\n",
       "type          49440      7         Delivery  24728\n",
       "city          49440     30              BTM   3108"
      ]
     },
     "execution_count": 15,
     "metadata": {},
     "output_type": "execute_result"
    }
   ],
   "source": [
    "zomato.describe(include=object).T\n"
   ]
  },
  {
   "cell_type": "code",
   "execution_count": 18,
   "id": "95ad61ab",
   "metadata": {},
   "outputs": [
    {
     "data": {
      "text/plain": [
       "address         0.000000\n",
       "name            0.000000\n",
       "online_order    0.000000\n",
       "book_table      0.000000\n",
       "rate           15.726133\n",
       "votes           0.000000\n",
       "location        0.042476\n",
       "rest_type       0.455097\n",
       "cuisines        0.091019\n",
       "cost            0.689725\n",
       "reviews_list    0.000000\n",
       "menu_item       0.000000\n",
       "type            0.000000\n",
       "city            0.000000\n",
       "dtype: float64"
      ]
     },
     "execution_count": 18,
     "metadata": {},
     "output_type": "execute_result"
    }
   ],
   "source": [
    "zomato.isnull().sum()/zomato.isnull().count()*100"
   ]
  },
  {
   "cell_type": "code",
   "execution_count": 19,
   "id": "0e18be44",
   "metadata": {},
   "outputs": [],
   "source": [
    "#Filling the missing Values\n",
    "zomato['rate'].fillna(zomato['rate'].mode()[0],inplace=True)\n",
    "zomato['rest_type'].fillna(zomato['rest_type'].mode()[0],inplace=True)\n",
    "zomato['cost'].fillna(zomato['cost'].mean(),inplace=True)"
   ]
  },
  {
   "cell_type": "markdown",
   "id": "7227114c",
   "metadata": {},
   "source": [
    "# Drop null values"
   ]
  },
  {
   "cell_type": "code",
   "execution_count": 20,
   "id": "dd13363d",
   "metadata": {},
   "outputs": [
    {
     "data": {
      "text/plain": [
       "address         0\n",
       "name            0\n",
       "online_order    0\n",
       "book_table      0\n",
       "rate            0\n",
       "votes           0\n",
       "location        0\n",
       "rest_type       0\n",
       "cuisines        0\n",
       "cost            0\n",
       "reviews_list    0\n",
       "menu_item       0\n",
       "type            0\n",
       "city            0\n",
       "dtype: int64"
      ]
     },
     "execution_count": 20,
     "metadata": {},
     "output_type": "execute_result"
    }
   ],
   "source": [
    "#Remove the NaN values from the dataset\n",
    "zomato.dropna(how='any',inplace=True)\n",
    "zomato.isnull().sum()"
   ]
  },
  {
   "cell_type": "code",
   "execution_count": 21,
   "id": "a75a3197",
   "metadata": {},
   "outputs": [
    {
     "data": {
      "text/plain": [
       "Index(['rate', 'votes', 'cost'], dtype='object')"
      ]
     },
     "execution_count": 21,
     "metadata": {},
     "output_type": "execute_result"
    }
   ],
   "source": [
    "df_num=zomato.select_dtypes(include=np.number)\n",
    "df_num.columns"
   ]
  },
  {
   "cell_type": "code",
   "execution_count": 22,
   "id": "28bdddcd",
   "metadata": {},
   "outputs": [
    {
     "data": {
      "image/png": "[encoded data removed]",
      "text/plain": [
       "<Figure size 1080x720 with 3 Axes>"
      ]
     },
     "metadata": {
      "needs_background": "light"
     },
     "output_type": "display_data"
    },
    {
     "data": {
      "text/plain": [
       "<Figure size 432x288 with 0 Axes>"
      ]
     },
     "metadata": {},
     "output_type": "display_data"
    }
   ],
   "source": [
    "#Density Plot\n",
    "t=1\n",
    "plt.figure(figsize=(15,10))\n",
    "for i in df_num:\n",
    "    plt.subplot(2,2,t)\n",
    "    sns.distplot(zomato[i])\n",
    "    plt.xticks(rotation=90)\n",
    "    t+=1\n",
    "plt.show()\n",
    "plt.tight_layout()"
   ]
  },
  {
   "cell_type": "code",
   "execution_count": 23,
   "id": "d98243cc",
   "metadata": {},
   "outputs": [],
   "source": [
    "#Removing the Duplicates\n",
    "zomato.duplicated().sum()\n",
    "zomato.drop_duplicates(inplace=True)"
   ]
  },
  {
   "cell_type": "code",
   "execution_count": 24,
   "id": "8586aeb6",
   "metadata": {},
   "outputs": [
    {
     "data": {
      "text/plain": [
       "(49360, 14)"
      ]
     },
     "execution_count": 24,
     "metadata": {},
     "output_type": "execute_result"
    }
   ],
   "source": [
    "zomato.shape"
   ]
  },
  {
   "cell_type": "markdown",
   "id": "514cb72f",
   "metadata": {},
   "source": [
    "# Step 4: Once the basic preprocessing is done like converting the data types, missing value  imputation, and duplicate rows.\n",
    "perform the EDA(Exploratory Data Analysis) on the data to  find the various factors that will help to understand the cost per two persons."
   ]
  },
  {
   "cell_type": "code",
   "execution_count": 25,
   "id": "8c7b51f8",
   "metadata": {},
   "outputs": [
    {
     "data": {
      "text/plain": [
       "Index(['address', 'name', 'online_order', 'book_table', 'location',\n",
       "       'rest_type', 'cuisines', 'reviews_list', 'menu_item', 'type', 'city'],\n",
       "      dtype='object')"
      ]
     },
     "execution_count": 25,
     "metadata": {},
     "output_type": "execute_result"
    }
   ],
   "source": [
    "df_cat=zomato.select_dtypes(include=object)\n",
    "df_cat.columns"
   ]
  },
  {
   "cell_type": "code",
   "execution_count": 26,
   "id": "fe80c0e2",
   "metadata": {},
   "outputs": [
    {
     "data": {
      "text/plain": [
       "Text(0.5, 1.0, 'Restaurants delivering online or Not')"
      ]
     },
     "execution_count": 26,
     "metadata": {},
     "output_type": "execute_result"
    },
    {
     "data": {
      "image/png": "[encoded data removed]",
      "text/plain": [
       "<Figure size 720x720 with 1 Axes>"
      ]
     },
     "metadata": {
      "needs_background": "light"
     },
     "output_type": "display_data"
    }
   ],
   "source": [
    "#Count Plot\n",
    "sns.countplot(zomato['online_order'])\n",
    "fig = plt.gcf()\n",
    "fig.set_size_inches(10,10)\n",
    "plt.title('Restaurants delivering online or Not')"
   ]
  },
  {
   "cell_type": "markdown",
   "id": "fc8c9eb5",
   "metadata": {},
   "source": [
    "# How many restaurants are present at different city?"
   ]
  },
  {
   "cell_type": "code",
   "execution_count": 27,
   "id": "06c0b896",
   "metadata": {},
   "outputs": [
    {
     "data": {
      "text/plain": [
       "BTM                      3100\n",
       "Koramangala 7th Block    2823\n",
       "Koramangala 5th Block    2706\n",
       "Koramangala 4th Block    2676\n",
       "Koramangala 6th Block    2486\n",
       "Jayanagar                2287\n",
       "JP Nagar                 1961\n",
       "MG Road                  1765\n",
       "Church Street            1758\n",
       "Indiranagar              1740\n",
       "Brigade Road             1715\n",
       "Lavelle Road             1699\n",
       "HSR                      1625\n",
       "Marathahalli             1600\n",
       "Residency Road           1587\n",
       "Whitefield               1568\n",
       "Bannerghatta Road        1500\n",
       "Brookefield              1403\n",
       "Old Airport Road         1369\n",
       "Kammanahalli             1279\n",
       "Kalyan Nagar             1229\n",
       "Sarjapur Road            1224\n",
       "Basavanagudi             1197\n",
       "Bellandur                1152\n",
       "Frazer Town              1145\n",
       "Electronic City          1102\n",
       "Malleshwaram             1067\n",
       "Rajajinagar              1052\n",
       "Banashankari              820\n",
       "New BEL Road              725\n",
       "Name: city, dtype: int64"
      ]
     },
     "execution_count": 27,
     "metadata": {},
     "output_type": "execute_result"
    }
   ],
   "source": [
    "zomato.city.value_counts()"
   ]
  },
  {
   "cell_type": "code",
   "execution_count": 28,
   "id": "4a03729f",
   "metadata": {},
   "outputs": [
    {
     "data": {
      "image/png": "[encoded data removed]",
      "text/plain": [
       "<Figure size 1440x720 with 1 Axes>"
      ]
     },
     "metadata": {
      "needs_background": "light"
     },
     "output_type": "display_data"
    }
   ],
   "source": [
    "# Countplot of city\n",
    "\n",
    "plt.figure(figsize=(20,10))\n",
    "sns.countplot(x='city', data=zomato)\n",
    "plt.title('Count of Restaurants at each Location', fontsize=20, fontweight='bold')\n",
    "plt.xticks(rotation=90)\n",
    "plt.show()"
   ]
  },
  {
   "cell_type": "markdown",
   "id": "0078404c",
   "metadata": {},
   "source": [
    "There are more than 3000 restaurants in BTM. Quick Google Search shows us that BTM is posh residential area so because of that there are quite a lot of restaurants and also it is famous for cafes. JP Nagar HSR, Koramangala 5th block, Whitefield, Indiranagar have more than 2000 restaurants and Jayanagar, Marathahalli, Bannerghatta Road have more than 1000 restaurants."
   ]
  },
  {
   "cell_type": "markdown",
   "id": "2d0506b8",
   "metadata": {},
   "source": [
    "# Restaurant types"
   ]
  },
  {
   "cell_type": "code",
   "execution_count": 29,
   "id": "d2e0be0d",
   "metadata": {},
   "outputs": [
    {
     "data": {
      "image/png": "[encoded data removed]",
      "text/plain": [
       "<Figure size 1440x720 with 1 Axes>"
      ]
     },
     "metadata": {
      "needs_background": "light"
     },
     "output_type": "display_data"
    }
   ],
   "source": [
    "# Bar plot of rest_type\n",
    "\n",
    "plt.figure(figsize=(20,10))\n",
    "sns.countplot(x='rest_type', data=zomato)\n",
    "plt.xticks(rotation=90)\n",
    "plt.title('Count of each restaurant type', fontsize=20, fontweight='bold')\n",
    "plt.show()"
   ]
  },
  {
   "cell_type": "code",
   "execution_count": 30,
   "id": "383bc9c7",
   "metadata": {},
   "outputs": [
    {
     "data": {
      "image/png": "[encoded data removed]",
      "text/plain": [
       "<Figure size 1080x504 with 1 Axes>"
      ]
     },
     "metadata": {
      "needs_background": "light"
     },
     "output_type": "display_data"
    }
   ],
   "source": [
    "#Bar Plot\n",
    "plt.figure(figsize=(15,7))\n",
    "chains = zomato['name'].value_counts()[:20]\n",
    "sns.barplot(x=chains, y=chains.index, palette='Set1')\n",
    "plt.xlabel(\"Number of outlets\", size=15)\n",
    "plt.ylabel(\"Name of Restaurants\", size=15)\n",
    "plt.title(\"Most famous restaurant chains\", fontsize=20, fontweight='bold')\n",
    "plt.show()"
   ]
  },
  {
   "cell_type": "markdown",
   "id": "ac2c9559",
   "metadata": {},
   "source": [
    "### Cafe Coffee Day has maximum outlets in the city and is followed by Onesta with number of outlets little more than 80. It can be seen that most famous restaurant chains have more than 50 outlets."
   ]
  },
  {
   "cell_type": "code",
   "execution_count": 30,
   "id": "4a766a9f",
   "metadata": {},
   "outputs": [
    {
     "data": {
      "image/png": "[encoded data removed]",
      "text/plain": [
       "<Figure size 1080x504 with 1 Axes>"
      ]
     },
     "metadata": {
      "needs_background": "light"
     },
     "output_type": "display_data"
    }
   ],
   "source": [
    "df_online_booking = zomato.groupby([\"online_order\", \"book_table\"]).size().reset_index(name = \"Count\")\n",
    "plt.figure(figsize = (15,7))\n",
    "sns.barplot(x=\"online_order\", y=\"Count\", hue=\"book_table\", data=df_online_booking)\n",
    "plt.title(\"Online Order - Book Table\", fontsize=20, fontweight='bold')\n",
    "plt.show()"
   ]
  },
  {
   "cell_type": "code",
   "execution_count": 32,
   "id": "50dbf343",
   "metadata": {},
   "outputs": [
    {
     "data": {
      "text/plain": [
       "Text(0.5, 1.0, 'Location')"
      ]
     },
     "execution_count": 32,
     "metadata": {},
     "output_type": "execute_result"
    },
    {
     "data": {
      "image/png": "[encoded data removed]",
      "text/plain": [
       "<Figure size 864x432 with 1 Axes>"
      ]
     },
     "metadata": {},
     "output_type": "display_data"
    }
   ],
   "source": [
    "#Pie Chart\n",
    "plt.figure(figsize=(12,6)) \n",
    "zomato_orgnl['location'].value_counts()[:10].plot(kind = 'pie')\n",
    "plt.title('Location', weight = 'bold')"
   ]
  },
  {
   "cell_type": "code",
   "execution_count": 36,
   "id": "bcade2a7",
   "metadata": {},
   "outputs": [
    {
     "data": {
      "image/png": "[encoded data removed]",
      "text/plain": [
       "<Figure size 864x432 with 1 Axes>"
      ]
     },
     "metadata": {},
     "output_type": "display_data"
    }
   ],
   "source": [
    "plt.figure(figsize = (12,6))\n",
    "names = zomato_orgnl['location'].value_counts()[:10].index\n",
    "values = zomato_orgnl['location'].value_counts()[:10].values\n",
    "colors = ['gold', 'red', 'lightcoral', 'lightskyblue','blue','green','silver']\n",
    "explode = (0.1, 0, 0, 0,0,0,0,0,0,0)  # explode 1st slice\n",
    "\n",
    "plt.pie(values, explode=explode, labels=names, colors=colors,autopct='%1.1f%%', shadow=True, startangle=140)\n",
    "plt.axis('equal')\n",
    "plt.title(\"Percentage of restaurants present in that location\", weight = 'bold')\n",
    "plt.show()"
   ]
  },
  {
   "cell_type": "markdown",
   "id": "7980f0e7",
   "metadata": {},
   "source": [
    "# Step 5: Make a copy of the data set and Perform the preprocessing that require for the  model.\n",
    "Note: You can see many categorical variables with a high number of unique values. Therefore do not keep dropping the variables as the first option, try to create new variables  or perform any other feature engineering methods."
   ]
  },
  {
   "cell_type": "code",
   "execution_count": 33,
   "id": "80f97398",
   "metadata": {},
   "outputs": [],
   "source": [
    "df_zomato=zomato.copy()"
   ]
  },
  {
   "cell_type": "markdown",
   "id": "73c0ee40",
   "metadata": {},
   "source": [
    "#  Convert the online categorical variables into a numeric format"
   ]
  },
  {
   "cell_type": "code",
   "execution_count": 34,
   "id": "2d165d4c",
   "metadata": {},
   "outputs": [],
   "source": [
    "zomato.online_order[zomato.online_order == 'Yes'] = 1 \n",
    "zomato.online_order[zomato.online_order == 'No'] = 0"
   ]
  },
  {
   "cell_type": "code",
   "execution_count": 35,
   "id": "b027b31f",
   "metadata": {},
   "outputs": [
    {
     "data": {
      "text/plain": [
       "1    29298\n",
       "0    20062\n",
       "Name: online_order, dtype: int64"
      ]
     },
     "execution_count": 35,
     "metadata": {},
     "output_type": "execute_result"
    }
   ],
   "source": [
    "zomato.online_order.value_counts()"
   ]
  },
  {
   "cell_type": "code",
   "execution_count": 36,
   "id": "4201f319",
   "metadata": {},
   "outputs": [],
   "source": [
    "zomato.online_order = pd.to_numeric(zomato.online_order)"
   ]
  },
  {
   "cell_type": "markdown",
   "id": "9dd9d3c6",
   "metadata": {},
   "source": [
    "# change the string categorical into to a categorical int"
   ]
  },
  {
   "cell_type": "code",
   "execution_count": 37,
   "id": "29c68652",
   "metadata": {},
   "outputs": [],
   "source": [
    "zomato.book_table[zomato.book_table == 'Yes'] = 1 \n",
    "zomato.book_table[zomato.book_table == 'No'] = 0"
   ]
  },
  {
   "cell_type": "code",
   "execution_count": 38,
   "id": "833a7237",
   "metadata": {},
   "outputs": [],
   "source": [
    "zomato.book_table = pd.to_numeric(zomato.book_table)"
   ]
  },
  {
   "cell_type": "code",
   "execution_count": 39,
   "id": "74edb580",
   "metadata": {},
   "outputs": [
    {
     "data": {
      "text/plain": [
       "0    43045\n",
       "1     6315\n",
       "Name: book_table, dtype: int64"
      ]
     },
     "execution_count": 39,
     "metadata": {},
     "output_type": "execute_result"
    }
   ],
   "source": [
    "zomato.book_table.value_counts()"
   ]
  },
  {
   "cell_type": "markdown",
   "id": "a117fa56",
   "metadata": {},
   "source": [
    "# Label encode the categorical variables to make it easier to build algorithm"
   ]
  },
  {
   "cell_type": "code",
   "execution_count": 40,
   "id": "268514bc",
   "metadata": {},
   "outputs": [],
   "source": [
    "from sklearn.preprocessing import LabelEncoder\n",
    "le = LabelEncoder()"
   ]
  },
  {
   "cell_type": "code",
   "execution_count": 41,
   "id": "18b531a7",
   "metadata": {},
   "outputs": [],
   "source": [
    "zomato.location = le.fit_transform(zomato.location)\n",
    "zomato.rest_type = le.fit_transform(zomato.rest_type)\n",
    "zomato.cuisines = le.fit_transform(zomato.cuisines)\n",
    "zomato.menu_item = le.fit_transform(zomato.menu_item)"
   ]
  },
  {
   "cell_type": "code",
   "execution_count": 42,
   "id": "3371ad9c",
   "metadata": {},
   "outputs": [
    {
     "data": {
      "text/html": [
       "<div>\n",
       "<style scoped>\n",
       "    .dataframe tbody tr th:only-of-type {\n",
       "        vertical-align: middle;\n",
       "    }\n",
       "\n",
       "    .dataframe tbody tr th {\n",
       "        vertical-align: top;\n",
       "    }\n",
       "\n",
       "    .dataframe thead th {\n",
       "        text-align: right;\n",
       "    }\n",
       "</style>\n",
       "<table border=\"1\" class=\"dataframe\">\n",
       "  <thead>\n",
       "    <tr style=\"text-align: right;\">\n",
       "      <th></th>\n",
       "      <th>address</th>\n",
       "      <th>name</th>\n",
       "      <th>online_order</th>\n",
       "      <th>book_table</th>\n",
       "      <th>rate</th>\n",
       "      <th>votes</th>\n",
       "      <th>location</th>\n",
       "      <th>rest_type</th>\n",
       "      <th>cuisines</th>\n",
       "      <th>cost</th>\n",
       "      <th>reviews_list</th>\n",
       "      <th>menu_item</th>\n",
       "      <th>type</th>\n",
       "      <th>city</th>\n",
       "    </tr>\n",
       "  </thead>\n",
       "  <tbody>\n",
       "    <tr>\n",
       "      <th>0</th>\n",
       "      <td>942, 21st Main Road, 2nd Stage, Banashankari, ...</td>\n",
       "      <td>Jalsa</td>\n",
       "      <td>1</td>\n",
       "      <td>1</td>\n",
       "      <td>4.100000</td>\n",
       "      <td>775</td>\n",
       "      <td>1</td>\n",
       "      <td>27</td>\n",
       "      <td>2091</td>\n",
       "      <td>800.000000</td>\n",
       "      <td>[('Rated 4.0', 'RATED\\n  A beautiful place to ...</td>\n",
       "      <td>8778</td>\n",
       "      <td>Buffet</td>\n",
       "      <td>Banashankari</td>\n",
       "    </tr>\n",
       "    <tr>\n",
       "      <th>1</th>\n",
       "      <td>2nd Floor, 80 Feet Road, Near Big Bazaar, 6th ...</td>\n",
       "      <td>Spice Elephant</td>\n",
       "      <td>1</td>\n",
       "      <td>0</td>\n",
       "      <td>4.100000</td>\n",
       "      <td>787</td>\n",
       "      <td>1</td>\n",
       "      <td>27</td>\n",
       "      <td>922</td>\n",
       "      <td>800.000000</td>\n",
       "      <td>[('Rated 4.0', 'RATED\\n  Had been here for din...</td>\n",
       "      <td>8778</td>\n",
       "      <td>Buffet</td>\n",
       "      <td>Banashankari</td>\n",
       "    </tr>\n",
       "    <tr>\n",
       "      <th>2</th>\n",
       "      <td>1112, Next to KIMS Medical College, 17th Cross...</td>\n",
       "      <td>San Churro Cafe</td>\n",
       "      <td>1</td>\n",
       "      <td>0</td>\n",
       "      <td>3.800000</td>\n",
       "      <td>918</td>\n",
       "      <td>1</td>\n",
       "      <td>22</td>\n",
       "      <td>743</td>\n",
       "      <td>800.000000</td>\n",
       "      <td>[('Rated 3.0', \"RATED\\n  Ambience is not that ...</td>\n",
       "      <td>8778</td>\n",
       "      <td>Buffet</td>\n",
       "      <td>Banashankari</td>\n",
       "    </tr>\n",
       "    <tr>\n",
       "      <th>3</th>\n",
       "      <td>1st Floor, Annakuteera, 3rd Stage, Banashankar...</td>\n",
       "      <td>Addhuri Udupi Bhojana</td>\n",
       "      <td>0</td>\n",
       "      <td>0</td>\n",
       "      <td>3.700000</td>\n",
       "      <td>88</td>\n",
       "      <td>1</td>\n",
       "      <td>78</td>\n",
       "      <td>2469</td>\n",
       "      <td>300.000000</td>\n",
       "      <td>[('Rated 4.0', \"RATED\\n  Great food and proper...</td>\n",
       "      <td>8778</td>\n",
       "      <td>Buffet</td>\n",
       "      <td>Banashankari</td>\n",
       "    </tr>\n",
       "    <tr>\n",
       "      <th>4</th>\n",
       "      <td>10, 3rd Floor, Lakshmi Associates, Gandhi Baza...</td>\n",
       "      <td>Grand Village</td>\n",
       "      <td>0</td>\n",
       "      <td>0</td>\n",
       "      <td>3.800000</td>\n",
       "      <td>166</td>\n",
       "      <td>4</td>\n",
       "      <td>27</td>\n",
       "      <td>2119</td>\n",
       "      <td>600.000000</td>\n",
       "      <td>[('Rated 4.0', 'RATED\\n  Very good restaurant ...</td>\n",
       "      <td>8778</td>\n",
       "      <td>Buffet</td>\n",
       "      <td>Banashankari</td>\n",
       "    </tr>\n",
       "  </tbody>\n",
       "</table>\n",
       "</div>"
      ],
      "text/plain": [
       "                                             address                   name  \\\n",
       "0  942, 21st Main Road, 2nd Stage, Banashankari, ...                  Jalsa   \n",
       "1  2nd Floor, 80 Feet Road, Near Big Bazaar, 6th ...         Spice Elephant   \n",
       "2  1112, Next to KIMS Medical College, 17th Cross...        San Churro Cafe   \n",
       "3  1st Floor, Annakuteera, 3rd Stage, Banashankar...  Addhuri Udupi Bhojana   \n",
       "4  10, 3rd Floor, Lakshmi Associates, Gandhi Baza...          Grand Village   \n",
       "\n",
       "   online_order  book_table     rate  votes  location  rest_type  cuisines  \\\n",
       "0             1           1 4.100000    775         1         27      2091   \n",
       "1             1           0 4.100000    787         1         27       922   \n",
       "2             1           0 3.800000    918         1         22       743   \n",
       "3             0           0 3.700000     88         1         78      2469   \n",
       "4             0           0 3.800000    166         4         27      2119   \n",
       "\n",
       "        cost                                       reviews_list  menu_item  \\\n",
       "0 800.000000  [('Rated 4.0', 'RATED\\n  A beautiful place to ...       8778   \n",
       "1 800.000000  [('Rated 4.0', 'RATED\\n  Had been here for din...       8778   \n",
       "2 800.000000  [('Rated 3.0', \"RATED\\n  Ambience is not that ...       8778   \n",
       "3 300.000000  [('Rated 4.0', \"RATED\\n  Great food and proper...       8778   \n",
       "4 600.000000  [('Rated 4.0', 'RATED\\n  Very good restaurant ...       8778   \n",
       "\n",
       "     type          city  \n",
       "0  Buffet  Banashankari  \n",
       "1  Buffet  Banashankari  \n",
       "2  Buffet  Banashankari  \n",
       "3  Buffet  Banashankari  \n",
       "4  Buffet  Banashankari  "
      ]
     },
     "execution_count": 42,
     "metadata": {},
     "output_type": "execute_result"
    }
   ],
   "source": [
    "zomato.head()"
   ]
  },
  {
   "cell_type": "markdown",
   "id": "47ddc995",
   "metadata": {},
   "source": [
    "# Step 6: Perform statistical hypothesis testing on features to get an idea of whether features are impacting the target variables."
   ]
  },
  {
   "cell_type": "markdown",
   "id": "482c78c6",
   "metadata": {},
   "source": [
    "Dividing the dataset into categorical and numerical columns and then finding pvalue for each independent feature corresponding to dependent feture(cost). Keeping pvalue threshold as 0.05\n",
    "\n",
    "1. Hypothesis Testing for Categorical columns and stroke\n",
    "\n",
    "Hypothesis :\n",
    "\n",
    "H0:Independent variables are not significantly associated with the dependent variable (cost)\n",
    "\n",
    "H1:Independent variables are significantly associated with the dependent variable (cost)\n",
    "\n",
    "if pvalue<0.05 we will reject the null hypothesis."
   ]
  },
  {
   "cell_type": "code",
   "execution_count": 58,
   "id": "50c21475",
   "metadata": {},
   "outputs": [],
   "source": [
    "cat_cols = ['name', 'online_order', 'book_table', 'rest_type', 'cuisines','reviews_list', 'type', 'city']"
   ]
  },
  {
   "cell_type": "code",
   "execution_count": 59,
   "id": "17e32cb6",
   "metadata": {},
   "outputs": [],
   "source": [
    "# To perform hypothesis between categorical columns we are using chi2_contingency"
   ]
  },
  {
   "cell_type": "code",
   "execution_count": 60,
   "id": "673fd5c3",
   "metadata": {},
   "outputs": [],
   "source": [
    "from scipy.stats import chi2_contingency\n",
    "pvalue_score = pd.DataFrame(columns=['Feature','pvalue'])\n",
    "\n",
    "\n",
    "def update_score_categorical(cat_cols):\n",
    "    \n",
    "    global pvalue_score\n",
    "    for col in cat_cols:\n",
    "        contingency_table = pd.crosstab(zomato[col], zomato['cost'])\n",
    "        chi2, p_value, dof, expected = chi2_contingency(contingency_table)\n",
    "        pvalue_score = pvalue_score.append({'Feature':col,'pvalue':p_value}, ignore_index = True)"
   ]
  },
  {
   "cell_type": "code",
   "execution_count": 61,
   "id": "337f372c",
   "metadata": {},
   "outputs": [],
   "source": [
    "# list of categorical variables\n",
    "cat_cols = ['name', 'online_order', 'book_table', 'rest_type', 'cuisines','reviews_list', 'type', 'city']\n",
    "update_score_categorical(cat_cols)\n"
   ]
  },
  {
   "cell_type": "markdown",
   "id": "89644192",
   "metadata": {},
   "source": [
    "2. Hypothesis Testing for numerical columns and stroke\n",
    "\n",
    "Hypothesis :\n",
    "\n",
    "H0:The variables are not correlated with each other\n",
    "\n",
    "H1:The variables are correlated with each other\n",
    "\n",
    "if pvalue<0.05 we will reject the null hypothesis."
   ]
  },
  {
   "cell_type": "code",
   "execution_count": 62,
   "id": "3a1737e9",
   "metadata": {},
   "outputs": [
    {
     "data": {
      "text/html": [
       "<div>\n",
       "<style scoped>\n",
       "    .dataframe tbody tr th:only-of-type {\n",
       "        vertical-align: middle;\n",
       "    }\n",
       "\n",
       "    .dataframe tbody tr th {\n",
       "        vertical-align: top;\n",
       "    }\n",
       "\n",
       "    .dataframe thead th {\n",
       "        text-align: right;\n",
       "    }\n",
       "</style>\n",
       "<table border=\"1\" class=\"dataframe\">\n",
       "  <thead>\n",
       "    <tr style=\"text-align: right;\">\n",
       "      <th></th>\n",
       "      <th>Feature</th>\n",
       "      <th>pvalue</th>\n",
       "    </tr>\n",
       "  </thead>\n",
       "  <tbody>\n",
       "    <tr>\n",
       "      <th>0</th>\n",
       "      <td>name</td>\n",
       "      <td>0.000000</td>\n",
       "    </tr>\n",
       "    <tr>\n",
       "      <th>1</th>\n",
       "      <td>online_order</td>\n",
       "      <td>0.000000</td>\n",
       "    </tr>\n",
       "    <tr>\n",
       "      <th>2</th>\n",
       "      <td>book_table</td>\n",
       "      <td>0.000000</td>\n",
       "    </tr>\n",
       "    <tr>\n",
       "      <th>3</th>\n",
       "      <td>rest_type</td>\n",
       "      <td>0.000000</td>\n",
       "    </tr>\n",
       "    <tr>\n",
       "      <th>4</th>\n",
       "      <td>cuisines</td>\n",
       "      <td>0.000000</td>\n",
       "    </tr>\n",
       "    <tr>\n",
       "      <th>5</th>\n",
       "      <td>reviews_list</td>\n",
       "      <td>0.000000</td>\n",
       "    </tr>\n",
       "    <tr>\n",
       "      <th>6</th>\n",
       "      <td>type</td>\n",
       "      <td>0.000000</td>\n",
       "    </tr>\n",
       "    <tr>\n",
       "      <th>7</th>\n",
       "      <td>city</td>\n",
       "      <td>0.000000</td>\n",
       "    </tr>\n",
       "  </tbody>\n",
       "</table>\n",
       "</div>"
      ],
      "text/plain": [
       "        Feature   pvalue\n",
       "0          name 0.000000\n",
       "1  online_order 0.000000\n",
       "2    book_table 0.000000\n",
       "3     rest_type 0.000000\n",
       "4      cuisines 0.000000\n",
       "5  reviews_list 0.000000\n",
       "6          type 0.000000\n",
       "7          city 0.000000"
      ]
     },
     "execution_count": 62,
     "metadata": {},
     "output_type": "execute_result"
    }
   ],
   "source": [
    "pvalue_score"
   ]
  },
  {
   "cell_type": "markdown",
   "id": "4b544b9d",
   "metadata": {},
   "source": [
    "# Step 7: Split the dataset into train and test data sets and Perform the scaling on both sets if necessary"
   ]
  },
  {
   "cell_type": "code",
   "execution_count": 63,
   "id": "3f571264",
   "metadata": {},
   "outputs": [
    {
     "name": "stdout",
     "output_type": "stream",
     "text": [
      "(44424, 8)\n",
      "(44424,)\n"
     ]
    }
   ],
   "source": [
    "from sklearn.model_selection import train_test_split \n",
    "x = zomato.iloc[:,[2,3,4,5,6,7,8,11]]\n",
    "y = zomato['cost']\n",
    "#Getting Test and Training Set\n",
    "x_train,x_test,y_train,y_test=train_test_split(x,y,test_size=.1,random_state=353)\n",
    "print(x_train.shape)\n",
    "print(y_train.shape)"
   ]
  },
  {
   "cell_type": "code",
   "execution_count": 65,
   "id": "0d89510b",
   "metadata": {},
   "outputs": [],
   "source": [
    "# from sklearn.model_selection import train_test_split \n",
    "# x = zomato_en.iloc[:,[2,3,4,5,6,7,8,11,12]]\n",
    "# y = zomato_en['cost']\n",
    "# #Getting Test and Training Set\n",
    "# x_train,x_test,y_train,y_test=train_test_split(x,y,test_size=.1,random_state=353)\n",
    "# x_train.head()\n",
    "# y_train.head()"
   ]
  },
  {
   "cell_type": "markdown",
   "id": "f2411b9e",
   "metadata": {},
   "source": [
    "# Step 8: Build the base model."
   ]
  },
  {
   "cell_type": "markdown",
   "id": "c44d4884",
   "metadata": {},
   "source": [
    "# LinearRegression"
   ]
  },
  {
   "cell_type": "code",
   "execution_count": 66,
   "id": "6ce5829a",
   "metadata": {},
   "outputs": [
    {
     "name": "stdout",
     "output_type": "stream",
     "text": [
      "210.20056157208657\n",
      "0.1590970162844103\n"
     ]
    }
   ],
   "source": [
    "lin_reg=LinearRegression()\n",
    "model=lin_reg.fit(x_train,y_train)\n",
    "ypred=model.predict(x_test)\n",
    "rmse=np.sqrt(mean_squared_error(y_test,ypred))\n",
    "print(rmse)\n",
    "from sklearn.metrics import r2_score\n",
    "r2=r2_score(y_test,ypred)\n",
    "print(r2)\n"
   ]
  },
  {
   "cell_type": "markdown",
   "id": "4a441ba7",
   "metadata": {},
   "source": [
    "# Descision tree"
   ]
  },
  {
   "cell_type": "code",
   "execution_count": 67,
   "id": "c9d131b6",
   "metadata": {},
   "outputs": [
    {
     "data": {
      "text/plain": [
       "0.834547222459454"
      ]
     },
     "execution_count": 67,
     "metadata": {},
     "output_type": "execute_result"
    }
   ],
   "source": [
    "from sklearn.tree import DecisionTreeRegressor\n",
    "x_train,x_test,y_train,y_test=train_test_split(x,y,test_size=.1,random_state=105)\n",
    "Dtree=DecisionTreeRegressor(min_samples_leaf=.0001)\n",
    "Dtree.fit(x_train,y_train)\n",
    "y_predict=Dtree.predict(x_test)\n",
    "from sklearn.metrics import r2_score\n",
    "r2_score(y_test,y_predict)"
   ]
  },
  {
   "cell_type": "code",
   "execution_count": 69,
   "id": "ec081974",
   "metadata": {},
   "outputs": [
    {
     "data": {
      "text/html": [
       "<div>\n",
       "<style scoped>\n",
       "    .dataframe tbody tr th:only-of-type {\n",
       "        vertical-align: middle;\n",
       "    }\n",
       "\n",
       "    .dataframe tbody tr th {\n",
       "        vertical-align: top;\n",
       "    }\n",
       "\n",
       "    .dataframe thead th {\n",
       "        text-align: right;\n",
       "    }\n",
       "</style>\n",
       "<table border=\"1\" class=\"dataframe\">\n",
       "  <thead>\n",
       "    <tr style=\"text-align: right;\">\n",
       "      <th></th>\n",
       "      <th>actual</th>\n",
       "      <th>pred</th>\n",
       "    </tr>\n",
       "  </thead>\n",
       "  <tbody>\n",
       "    <tr>\n",
       "      <th>48021</th>\n",
       "      <td>500.000000</td>\n",
       "      <td>316.666667</td>\n",
       "    </tr>\n",
       "    <tr>\n",
       "      <th>45874</th>\n",
       "      <td>300.000000</td>\n",
       "      <td>300.000000</td>\n",
       "    </tr>\n",
       "    <tr>\n",
       "      <th>29130</th>\n",
       "      <td>200.000000</td>\n",
       "      <td>271.428571</td>\n",
       "    </tr>\n",
       "    <tr>\n",
       "      <th>21099</th>\n",
       "      <td>600.000000</td>\n",
       "      <td>680.000000</td>\n",
       "    </tr>\n",
       "    <tr>\n",
       "      <th>45191</th>\n",
       "      <td>800.000000</td>\n",
       "      <td>787.500000</td>\n",
       "    </tr>\n",
       "  </tbody>\n",
       "</table>\n",
       "</div>"
      ],
      "text/plain": [
       "          actual       pred\n",
       "48021 500.000000 316.666667\n",
       "45874 300.000000 300.000000\n",
       "29130 200.000000 271.428571\n",
       "21099 600.000000 680.000000\n",
       "45191 800.000000 787.500000"
      ]
     },
     "execution_count": 69,
     "metadata": {},
     "output_type": "execute_result"
    }
   ],
   "source": [
    "Randpred =pd.DataFrame({ \"actual\": y_test, \"pred\": y_predict })\n",
    "Randpred.head()"
   ]
  },
  {
   "cell_type": "markdown",
   "id": "e33b3f45",
   "metadata": {},
   "source": [
    "### Step 9: Understand how the model is performing, Perform feature engineering again if needed.\n",
    "Do feature selection. Try with various models like a parametric and nonparametric models. Once you choose the final model, rebuild the model with best parameters. Note: If you are performing with Linear models, check the model is fulfilling the assumptions"
   ]
  },
  {
   "cell_type": "code",
   "execution_count": 78,
   "id": "774e2e69",
   "metadata": {},
   "outputs": [],
   "source": [
    "def get_train_rmse(model): \n",
    "    train_pred = model.predict(x_train)\n",
    "    mse_train = mean_squared_error(y_train, train_pred)\n",
    "    rmse_train = round(np.sqrt(mse_train), 4)\n",
    "    return(rmse_train)"
   ]
  },
  {
   "cell_type": "code",
   "execution_count": 79,
   "id": "66e5408b",
   "metadata": {},
   "outputs": [],
   "source": [
    "def get_test_rmse(model):\n",
    "    test_pred = model.predict(x_test)\n",
    "    mse_test = mean_squared_error(y_test, test_pred)\n",
    "    rmse_test = round(np.sqrt(mse_test), 4)\n",
    "    return(rmse_test)"
   ]
  },
  {
   "cell_type": "code",
   "execution_count": 91,
   "id": "b0cf7aee",
   "metadata": {},
   "outputs": [],
   "source": [
    "def mape(actual, predicted):\n",
    "    return (np.mean(np.abs((actual - predicted) / actual)) * 100)\n",
    "def get_test_mape(model):\n",
    "    test_pred = model.predict(x_test)\n",
    "    mape_test = mape(y_test, test_pred)\n",
    "    return(mape_test)"
   ]
  },
  {
   "cell_type": "code",
   "execution_count": 93,
   "id": "efd97899",
   "metadata": {},
   "outputs": [],
   "source": [
    "def get_score(model):\n",
    "    r_sq = model.score(x_train, y_train)\n",
    "    n = x_train.shape[0]\n",
    "    k = x_train.shape[1]\n",
    "    r_sq_adj = 1 - ((1-r_sq)*(n-1)/(n-k-1))\n",
    "    return ([r_sq, r_sq_adj])"
   ]
  },
  {
   "cell_type": "code",
   "execution_count": 94,
   "id": "4410ea5f",
   "metadata": {},
   "outputs": [],
   "source": [
    "score_card = pd.DataFrame(columns=['Model_Name', 'Alpha (Wherever Required)', 'l1-ratio', 'R-Squared',\n",
    "                                       'Adj. R-Squared', 'Test_RMSE', 'Test_MAPE'])\n",
    "def update_score_card(algorithm_name, model, alpha = '-', l1_ratio = '-'):\n",
    "    global score_card\n",
    "    score_card = score_card.append({'Model_Name': algorithm_name,\n",
    "                       'Alpha (Wherever Required)': alpha, \n",
    "                       'l1-ratio': l1_ratio, \n",
    "                       'Test_MAPE': get_test_mape(model), \n",
    "                       'Test_RMSE': get_test_rmse(model), \n",
    "                       'R-Squared': get_score(model)[0], \n",
    "                       'Adj. R-Squared': get_score(model)[1]}, ignore_index = True)"
   ]
  },
  {
   "cell_type": "code",
   "execution_count": 95,
   "id": "37940c97",
   "metadata": {},
   "outputs": [
    {
     "name": "stdout",
     "output_type": "stream",
     "text": [
      "RMSE on train set: 842466254405865.0\n",
      "RMSE on test set: 823740546446817.8\n"
     ]
    }
   ],
   "source": [
    "sgd = SGDRegressor(random_state = 10)\n",
    "linreg_with_SGD = sgd.fit(x_train, y_train)\n",
    "print('RMSE on train set:', get_train_rmse(linreg_with_SGD))\n",
    "print('RMSE on test set:', get_test_rmse(linreg_with_SGD)) "
   ]
  },
  {
   "cell_type": "code",
   "execution_count": 97,
   "id": "685ee122",
   "metadata": {},
   "outputs": [
    {
     "data": {
      "text/html": [
       "<div>\n",
       "<style scoped>\n",
       "    .dataframe tbody tr th:only-of-type {\n",
       "        vertical-align: middle;\n",
       "    }\n",
       "\n",
       "    .dataframe tbody tr th {\n",
       "        vertical-align: top;\n",
       "    }\n",
       "\n",
       "    .dataframe thead th {\n",
       "        text-align: right;\n",
       "    }\n",
       "</style>\n",
       "<table border=\"1\" class=\"dataframe\">\n",
       "  <thead>\n",
       "    <tr style=\"text-align: right;\">\n",
       "      <th></th>\n",
       "      <th>Model_Name</th>\n",
       "      <th>Alpha (Wherever Required)</th>\n",
       "      <th>l1-ratio</th>\n",
       "      <th>R-Squared</th>\n",
       "      <th>Adj. R-Squared</th>\n",
       "      <th>Test_RMSE</th>\n",
       "      <th>Test_MAPE</th>\n",
       "    </tr>\n",
       "  </thead>\n",
       "  <tbody>\n",
       "    <tr>\n",
       "      <th>0</th>\n",
       "      <td>Linear Regression (using SGD)</td>\n",
       "      <td>-</td>\n",
       "      <td>-</td>\n",
       "      <td>-13371277023631541723463680.000000</td>\n",
       "      <td>-13373685449077653229273088.000000</td>\n",
       "      <td>823740546446817.750000</td>\n",
       "      <td>8813188496313817.000000</td>\n",
       "    </tr>\n",
       "  </tbody>\n",
       "</table>\n",
       "</div>"
      ],
      "text/plain": [
       "                      Model_Name Alpha (Wherever Required) l1-ratio  \\\n",
       "0  Linear Regression (using SGD)                         -        -   \n",
       "\n",
       "                           R-Squared                     Adj. R-Squared  \\\n",
       "0 -13371277023631541723463680.000000 -13373685449077653229273088.000000   \n",
       "\n",
       "               Test_RMSE               Test_MAPE  \n",
       "0 823740546446817.750000 8813188496313817.000000  "
      ]
     },
     "execution_count": 97,
     "metadata": {},
     "output_type": "execute_result"
    }
   ],
   "source": [
    "update_score_card(algorithm_name = 'Linear Regression (using SGD)', model = linreg_with_SGD)\n",
    "score_card"
   ]
  },
  {
   "cell_type": "code",
   "execution_count": 99,
   "id": "0e0dfb35",
   "metadata": {},
   "outputs": [
    {
     "name": "stdout",
     "output_type": "stream",
     "text": [
      "RMSE on test set: 211.1743\n"
     ]
    }
   ],
   "source": [
    "ridge = Ridge(alpha = 1, max_iter = 500)\n",
    "ridge.fit(x_train, y_train)\n",
    "print('RMSE on test set:', get_test_rmse(ridge))"
   ]
  },
  {
   "cell_type": "code",
   "execution_count": 100,
   "id": "fed8aef9",
   "metadata": {},
   "outputs": [
    {
     "data": {
      "text/html": [
       "<div>\n",
       "<style scoped>\n",
       "    .dataframe tbody tr th:only-of-type {\n",
       "        vertical-align: middle;\n",
       "    }\n",
       "\n",
       "    .dataframe tbody tr th {\n",
       "        vertical-align: top;\n",
       "    }\n",
       "\n",
       "    .dataframe thead th {\n",
       "        text-align: right;\n",
       "    }\n",
       "</style>\n",
       "<table border=\"1\" class=\"dataframe\">\n",
       "  <thead>\n",
       "    <tr style=\"text-align: right;\">\n",
       "      <th></th>\n",
       "      <th>Model_Name</th>\n",
       "      <th>Alpha (Wherever Required)</th>\n",
       "      <th>l1-ratio</th>\n",
       "      <th>R-Squared</th>\n",
       "      <th>Adj. R-Squared</th>\n",
       "      <th>Test_RMSE</th>\n",
       "      <th>Test_MAPE</th>\n",
       "    </tr>\n",
       "  </thead>\n",
       "  <tbody>\n",
       "    <tr>\n",
       "      <th>0</th>\n",
       "      <td>Linear Regression (using SGD)</td>\n",
       "      <td>-</td>\n",
       "      <td>-</td>\n",
       "      <td>-13371277023631541723463680.000000</td>\n",
       "      <td>-13373685449077653229273088.000000</td>\n",
       "      <td>823740546446817.750000</td>\n",
       "      <td>8813188496313817.000000</td>\n",
       "    </tr>\n",
       "    <tr>\n",
       "      <th>1</th>\n",
       "      <td>Ridge Regression (with alpha = 1)</td>\n",
       "      <td>1</td>\n",
       "      <td>-</td>\n",
       "      <td>0.169161</td>\n",
       "      <td>0.169012</td>\n",
       "      <td>211.174300</td>\n",
       "      <td>3058.906832</td>\n",
       "    </tr>\n",
       "  </tbody>\n",
       "</table>\n",
       "</div>"
      ],
      "text/plain": [
       "                          Model_Name Alpha (Wherever Required) l1-ratio  \\\n",
       "0      Linear Regression (using SGD)                         -        -   \n",
       "1  Ridge Regression (with alpha = 1)                         1        -   \n",
       "\n",
       "                           R-Squared                     Adj. R-Squared  \\\n",
       "0 -13371277023631541723463680.000000 -13373685449077653229273088.000000   \n",
       "1                           0.169161                           0.169012   \n",
       "\n",
       "               Test_RMSE               Test_MAPE  \n",
       "0 823740546446817.750000 8813188496313817.000000  \n",
       "1             211.174300             3058.906832  "
      ]
     },
     "execution_count": 100,
     "metadata": {},
     "output_type": "execute_result"
    }
   ],
   "source": [
    "update_score_card(algorithm_name='Ridge Regression (with alpha = 1)', model = ridge, alpha = 1)\n",
    "score_card"
   ]
  },
  {
   "cell_type": "code",
   "execution_count": 101,
   "id": "aca816f0",
   "metadata": {},
   "outputs": [
    {
     "name": "stdout",
     "output_type": "stream",
     "text": [
      "RMSE on test set: 211.1743\n"
     ]
    }
   ],
   "source": [
    "ridge = Ridge(alpha = 2, max_iter = 500)\n",
    "ridge.fit(x_train, y_train)\n",
    "print('RMSE on test set:', get_test_rmse(ridge))"
   ]
  },
  {
   "cell_type": "code",
   "execution_count": 102,
   "id": "2fe6976b",
   "metadata": {},
   "outputs": [
    {
     "data": {
      "text/html": [
       "<div>\n",
       "<style scoped>\n",
       "    .dataframe tbody tr th:only-of-type {\n",
       "        vertical-align: middle;\n",
       "    }\n",
       "\n",
       "    .dataframe tbody tr th {\n",
       "        vertical-align: top;\n",
       "    }\n",
       "\n",
       "    .dataframe thead th {\n",
       "        text-align: right;\n",
       "    }\n",
       "</style>\n",
       "<table border=\"1\" class=\"dataframe\">\n",
       "  <thead>\n",
       "    <tr style=\"text-align: right;\">\n",
       "      <th></th>\n",
       "      <th>Model_Name</th>\n",
       "      <th>Alpha (Wherever Required)</th>\n",
       "      <th>l1-ratio</th>\n",
       "      <th>R-Squared</th>\n",
       "      <th>Adj. R-Squared</th>\n",
       "      <th>Test_RMSE</th>\n",
       "      <th>Test_MAPE</th>\n",
       "    </tr>\n",
       "  </thead>\n",
       "  <tbody>\n",
       "    <tr>\n",
       "      <th>0</th>\n",
       "      <td>Linear Regression (using SGD)</td>\n",
       "      <td>-</td>\n",
       "      <td>-</td>\n",
       "      <td>-13371277023631541723463680.000000</td>\n",
       "      <td>-13373685449077653229273088.000000</td>\n",
       "      <td>823740546446817.750000</td>\n",
       "      <td>8813188496313817.000000</td>\n",
       "    </tr>\n",
       "    <tr>\n",
       "      <th>1</th>\n",
       "      <td>Ridge Regression (with alpha = 1)</td>\n",
       "      <td>1</td>\n",
       "      <td>-</td>\n",
       "      <td>0.169161</td>\n",
       "      <td>0.169012</td>\n",
       "      <td>211.174300</td>\n",
       "      <td>3058.906832</td>\n",
       "    </tr>\n",
       "    <tr>\n",
       "      <th>2</th>\n",
       "      <td>Ridge Regression (with alpha = 2)</td>\n",
       "      <td>2</td>\n",
       "      <td>-</td>\n",
       "      <td>0.169161</td>\n",
       "      <td>0.169012</td>\n",
       "      <td>211.174300</td>\n",
       "      <td>3059.098040</td>\n",
       "    </tr>\n",
       "  </tbody>\n",
       "</table>\n",
       "</div>"
      ],
      "text/plain": [
       "                          Model_Name Alpha (Wherever Required) l1-ratio  \\\n",
       "0      Linear Regression (using SGD)                         -        -   \n",
       "1  Ridge Regression (with alpha = 1)                         1        -   \n",
       "2  Ridge Regression (with alpha = 2)                         2        -   \n",
       "\n",
       "                           R-Squared                     Adj. R-Squared  \\\n",
       "0 -13371277023631541723463680.000000 -13373685449077653229273088.000000   \n",
       "1                           0.169161                           0.169012   \n",
       "2                           0.169161                           0.169012   \n",
       "\n",
       "               Test_RMSE               Test_MAPE  \n",
       "0 823740546446817.750000 8813188496313817.000000  \n",
       "1             211.174300             3058.906832  \n",
       "2             211.174300             3059.098040  "
      ]
     },
     "execution_count": 102,
     "metadata": {},
     "output_type": "execute_result"
    }
   ],
   "source": [
    "update_score_card(algorithm_name = 'Ridge Regression (with alpha = 2)', model = ridge, alpha = '2')\n",
    "score_card"
   ]
  },
  {
   "cell_type": "code",
   "execution_count": 103,
   "id": "0a621b4b",
   "metadata": {},
   "outputs": [
    {
     "name": "stdout",
     "output_type": "stream",
     "text": [
      "RMSE on test set: 211.1743\n"
     ]
    }
   ],
   "source": [
    "lasso = Lasso(alpha = 0.01, max_iter = 500)\n",
    "lasso.fit(x_train, y_train)\n",
    "print('RMSE on test set:', get_test_rmse(lasso))"
   ]
  },
  {
   "cell_type": "code",
   "execution_count": 104,
   "id": "5cb11dcc",
   "metadata": {},
   "outputs": [
    {
     "data": {
      "text/html": [
       "<div>\n",
       "<style scoped>\n",
       "    .dataframe tbody tr th:only-of-type {\n",
       "        vertical-align: middle;\n",
       "    }\n",
       "\n",
       "    .dataframe tbody tr th {\n",
       "        vertical-align: top;\n",
       "    }\n",
       "\n",
       "    .dataframe thead th {\n",
       "        text-align: right;\n",
       "    }\n",
       "</style>\n",
       "<table border=\"1\" class=\"dataframe\">\n",
       "  <thead>\n",
       "    <tr style=\"text-align: right;\">\n",
       "      <th></th>\n",
       "      <th>Model_Name</th>\n",
       "      <th>Alpha (Wherever Required)</th>\n",
       "      <th>l1-ratio</th>\n",
       "      <th>R-Squared</th>\n",
       "      <th>Adj. R-Squared</th>\n",
       "      <th>Test_RMSE</th>\n",
       "      <th>Test_MAPE</th>\n",
       "    </tr>\n",
       "  </thead>\n",
       "  <tbody>\n",
       "    <tr>\n",
       "      <th>0</th>\n",
       "      <td>Linear Regression (using SGD)</td>\n",
       "      <td>-</td>\n",
       "      <td>-</td>\n",
       "      <td>-13371277023631541723463680.000000</td>\n",
       "      <td>-13373685449077653229273088.000000</td>\n",
       "      <td>823740546446817.750000</td>\n",
       "      <td>8813188496313817.000000</td>\n",
       "    </tr>\n",
       "    <tr>\n",
       "      <th>1</th>\n",
       "      <td>Ridge Regression (with alpha = 1)</td>\n",
       "      <td>1</td>\n",
       "      <td>-</td>\n",
       "      <td>0.169161</td>\n",
       "      <td>0.169012</td>\n",
       "      <td>211.174300</td>\n",
       "      <td>3058.906832</td>\n",
       "    </tr>\n",
       "    <tr>\n",
       "      <th>2</th>\n",
       "      <td>Ridge Regression (with alpha = 2)</td>\n",
       "      <td>2</td>\n",
       "      <td>-</td>\n",
       "      <td>0.169161</td>\n",
       "      <td>0.169012</td>\n",
       "      <td>211.174300</td>\n",
       "      <td>3059.098040</td>\n",
       "    </tr>\n",
       "    <tr>\n",
       "      <th>3</th>\n",
       "      <td>Lasso Regression</td>\n",
       "      <td>0.01</td>\n",
       "      <td>-</td>\n",
       "      <td>0.169161</td>\n",
       "      <td>0.169012</td>\n",
       "      <td>211.174300</td>\n",
       "      <td>3059.214230</td>\n",
       "    </tr>\n",
       "  </tbody>\n",
       "</table>\n",
       "</div>"
      ],
      "text/plain": [
       "                          Model_Name Alpha (Wherever Required) l1-ratio  \\\n",
       "0      Linear Regression (using SGD)                         -        -   \n",
       "1  Ridge Regression (with alpha = 1)                         1        -   \n",
       "2  Ridge Regression (with alpha = 2)                         2        -   \n",
       "3                   Lasso Regression                      0.01        -   \n",
       "\n",
       "                           R-Squared                     Adj. R-Squared  \\\n",
       "0 -13371277023631541723463680.000000 -13373685449077653229273088.000000   \n",
       "1                           0.169161                           0.169012   \n",
       "2                           0.169161                           0.169012   \n",
       "3                           0.169161                           0.169012   \n",
       "\n",
       "               Test_RMSE               Test_MAPE  \n",
       "0 823740546446817.750000 8813188496313817.000000  \n",
       "1             211.174300             3058.906832  \n",
       "2             211.174300             3059.098040  \n",
       "3             211.174300             3059.214230  "
      ]
     },
     "execution_count": 104,
     "metadata": {},
     "output_type": "execute_result"
    }
   ],
   "source": [
    "update_score_card(algorithm_name = 'Lasso Regression', model = lasso, alpha = '0.01')\n",
    "score_card"
   ]
  },
  {
   "cell_type": "code",
   "execution_count": 105,
   "id": "81d6ebf2",
   "metadata": {},
   "outputs": [
    {
     "name": "stdout",
     "output_type": "stream",
     "text": [
      "RMSE on test set: 213.7131\n"
     ]
    }
   ],
   "source": [
    "enet = ElasticNet(alpha = 0.1, l1_ratio = 0.01, max_iter = 500)\n",
    "enet.fit(x_train, y_train)\n",
    "print('RMSE on test set:', get_test_rmse(enet))"
   ]
  },
  {
   "cell_type": "code",
   "execution_count": 106,
   "id": "9184aff9",
   "metadata": {},
   "outputs": [
    {
     "data": {
      "text/html": [
       "<div>\n",
       "<style scoped>\n",
       "    .dataframe tbody tr th:only-of-type {\n",
       "        vertical-align: middle;\n",
       "    }\n",
       "\n",
       "    .dataframe tbody tr th {\n",
       "        vertical-align: top;\n",
       "    }\n",
       "\n",
       "    .dataframe thead th {\n",
       "        text-align: right;\n",
       "    }\n",
       "</style>\n",
       "<table border=\"1\" class=\"dataframe\">\n",
       "  <thead>\n",
       "    <tr style=\"text-align: right;\">\n",
       "      <th></th>\n",
       "      <th>Model_Name</th>\n",
       "      <th>Alpha (Wherever Required)</th>\n",
       "      <th>l1-ratio</th>\n",
       "      <th>R-Squared</th>\n",
       "      <th>Adj. R-Squared</th>\n",
       "      <th>Test_RMSE</th>\n",
       "      <th>Test_MAPE</th>\n",
       "    </tr>\n",
       "  </thead>\n",
       "  <tbody>\n",
       "    <tr>\n",
       "      <th>0</th>\n",
       "      <td>Linear Regression (using SGD)</td>\n",
       "      <td>-</td>\n",
       "      <td>-</td>\n",
       "      <td>-13371277023631541723463680.000000</td>\n",
       "      <td>-13373685449077653229273088.000000</td>\n",
       "      <td>823740546446817.750000</td>\n",
       "      <td>8813188496313817.000000</td>\n",
       "    </tr>\n",
       "    <tr>\n",
       "      <th>1</th>\n",
       "      <td>Ridge Regression (with alpha = 1)</td>\n",
       "      <td>1</td>\n",
       "      <td>-</td>\n",
       "      <td>0.169161</td>\n",
       "      <td>0.169012</td>\n",
       "      <td>211.174300</td>\n",
       "      <td>3058.906832</td>\n",
       "    </tr>\n",
       "    <tr>\n",
       "      <th>2</th>\n",
       "      <td>Ridge Regression (with alpha = 2)</td>\n",
       "      <td>2</td>\n",
       "      <td>-</td>\n",
       "      <td>0.169161</td>\n",
       "      <td>0.169012</td>\n",
       "      <td>211.174300</td>\n",
       "      <td>3059.098040</td>\n",
       "    </tr>\n",
       "    <tr>\n",
       "      <th>3</th>\n",
       "      <td>Lasso Regression</td>\n",
       "      <td>0.01</td>\n",
       "      <td>-</td>\n",
       "      <td>0.169161</td>\n",
       "      <td>0.169012</td>\n",
       "      <td>211.174300</td>\n",
       "      <td>3059.214230</td>\n",
       "    </tr>\n",
       "    <tr>\n",
       "      <th>4</th>\n",
       "      <td>Elastic Net Regression</td>\n",
       "      <td>0.1</td>\n",
       "      <td>0.01</td>\n",
       "      <td>0.149241</td>\n",
       "      <td>0.149087</td>\n",
       "      <td>213.713100</td>\n",
       "      <td>3471.608717</td>\n",
       "    </tr>\n",
       "  </tbody>\n",
       "</table>\n",
       "</div>"
      ],
      "text/plain": [
       "                          Model_Name Alpha (Wherever Required) l1-ratio  \\\n",
       "0      Linear Regression (using SGD)                         -        -   \n",
       "1  Ridge Regression (with alpha = 1)                         1        -   \n",
       "2  Ridge Regression (with alpha = 2)                         2        -   \n",
       "3                   Lasso Regression                      0.01        -   \n",
       "4             Elastic Net Regression                       0.1     0.01   \n",
       "\n",
       "                           R-Squared                     Adj. R-Squared  \\\n",
       "0 -13371277023631541723463680.000000 -13373685449077653229273088.000000   \n",
       "1                           0.169161                           0.169012   \n",
       "2                           0.169161                           0.169012   \n",
       "3                           0.169161                           0.169012   \n",
       "4                           0.149241                           0.149087   \n",
       "\n",
       "               Test_RMSE               Test_MAPE  \n",
       "0 823740546446817.750000 8813188496313817.000000  \n",
       "1             211.174300             3058.906832  \n",
       "2             211.174300             3059.098040  \n",
       "3             211.174300             3059.214230  \n",
       "4             213.713100             3471.608717  "
      ]
     },
     "execution_count": 106,
     "metadata": {},
     "output_type": "execute_result"
    }
   ],
   "source": [
    "update_score_card(algorithm_name = 'Elastic Net Regression', model = enet, alpha = '0.1', l1_ratio = '0.01')\n",
    "score_card"
   ]
  },
  {
   "cell_type": "code",
   "execution_count": 107,
   "id": "5badd8ac",
   "metadata": {},
   "outputs": [
    {
     "name": "stdout",
     "output_type": "stream",
     "text": [
      "Best parameters for Ridge Regression:  {'alpha': 1} \n",
      "\n",
      "RMSE on test set: 211.1743\n"
     ]
    }
   ],
   "source": [
    "tuned_paramaters = [{'alpha':[1e-15, 1e-10, 1e-8, 1e-4,1e-3, 1e-2, 0.1, 1, 5, 10, 20, 40, 60, 80, 100]}]\n",
    "ridge = Ridge()\n",
    "ridge_grid = GridSearchCV(estimator = ridge, \n",
    "                          param_grid = tuned_paramaters, \n",
    "                          cv = 10)\n",
    "ridge_grid.fit(x_train, y_train)\n",
    "print('Best parameters for Ridge Regression: ', ridge_grid.best_params_, '\\n')\n",
    "print('RMSE on test set:', get_test_rmse(ridge_grid))"
   ]
  },
  {
   "cell_type": "code",
   "execution_count": 108,
   "id": "e6fe7844",
   "metadata": {},
   "outputs": [
    {
     "data": {
      "text/html": [
       "<div>\n",
       "<style scoped>\n",
       "    .dataframe tbody tr th:only-of-type {\n",
       "        vertical-align: middle;\n",
       "    }\n",
       "\n",
       "    .dataframe tbody tr th {\n",
       "        vertical-align: top;\n",
       "    }\n",
       "\n",
       "    .dataframe thead th {\n",
       "        text-align: right;\n",
       "    }\n",
       "</style>\n",
       "<table border=\"1\" class=\"dataframe\">\n",
       "  <thead>\n",
       "    <tr style=\"text-align: right;\">\n",
       "      <th></th>\n",
       "      <th>Model_Name</th>\n",
       "      <th>Alpha (Wherever Required)</th>\n",
       "      <th>l1-ratio</th>\n",
       "      <th>R-Squared</th>\n",
       "      <th>Adj. R-Squared</th>\n",
       "      <th>Test_RMSE</th>\n",
       "      <th>Test_MAPE</th>\n",
       "    </tr>\n",
       "  </thead>\n",
       "  <tbody>\n",
       "    <tr>\n",
       "      <th>0</th>\n",
       "      <td>Linear Regression (using SGD)</td>\n",
       "      <td>-</td>\n",
       "      <td>-</td>\n",
       "      <td>-13371277023631541723463680.000000</td>\n",
       "      <td>-13373685449077653229273088.000000</td>\n",
       "      <td>823740546446817.750000</td>\n",
       "      <td>8813188496313817.000000</td>\n",
       "    </tr>\n",
       "    <tr>\n",
       "      <th>1</th>\n",
       "      <td>Ridge Regression (with alpha = 1)</td>\n",
       "      <td>1</td>\n",
       "      <td>-</td>\n",
       "      <td>0.169161</td>\n",
       "      <td>0.169012</td>\n",
       "      <td>211.174300</td>\n",
       "      <td>3058.906832</td>\n",
       "    </tr>\n",
       "    <tr>\n",
       "      <th>2</th>\n",
       "      <td>Ridge Regression (with alpha = 2)</td>\n",
       "      <td>2</td>\n",
       "      <td>-</td>\n",
       "      <td>0.169161</td>\n",
       "      <td>0.169012</td>\n",
       "      <td>211.174300</td>\n",
       "      <td>3059.098040</td>\n",
       "    </tr>\n",
       "    <tr>\n",
       "      <th>3</th>\n",
       "      <td>Lasso Regression</td>\n",
       "      <td>0.01</td>\n",
       "      <td>-</td>\n",
       "      <td>0.169161</td>\n",
       "      <td>0.169012</td>\n",
       "      <td>211.174300</td>\n",
       "      <td>3059.214230</td>\n",
       "    </tr>\n",
       "    <tr>\n",
       "      <th>4</th>\n",
       "      <td>Elastic Net Regression</td>\n",
       "      <td>0.1</td>\n",
       "      <td>0.01</td>\n",
       "      <td>0.149241</td>\n",
       "      <td>0.149087</td>\n",
       "      <td>213.713100</td>\n",
       "      <td>3471.608717</td>\n",
       "    </tr>\n",
       "    <tr>\n",
       "      <th>5</th>\n",
       "      <td>Ridge Regression (using GridSearchCV)</td>\n",
       "      <td>1</td>\n",
       "      <td>-</td>\n",
       "      <td>0.169161</td>\n",
       "      <td>0.169012</td>\n",
       "      <td>211.174300</td>\n",
       "      <td>3058.906832</td>\n",
       "    </tr>\n",
       "  </tbody>\n",
       "</table>\n",
       "</div>"
      ],
      "text/plain": [
       "                              Model_Name Alpha (Wherever Required) l1-ratio  \\\n",
       "0          Linear Regression (using SGD)                         -        -   \n",
       "1      Ridge Regression (with alpha = 1)                         1        -   \n",
       "2      Ridge Regression (with alpha = 2)                         2        -   \n",
       "3                       Lasso Regression                      0.01        -   \n",
       "4                 Elastic Net Regression                       0.1     0.01   \n",
       "5  Ridge Regression (using GridSearchCV)                         1        -   \n",
       "\n",
       "                           R-Squared                     Adj. R-Squared  \\\n",
       "0 -13371277023631541723463680.000000 -13373685449077653229273088.000000   \n",
       "1                           0.169161                           0.169012   \n",
       "2                           0.169161                           0.169012   \n",
       "3                           0.169161                           0.169012   \n",
       "4                           0.149241                           0.149087   \n",
       "5                           0.169161                           0.169012   \n",
       "\n",
       "               Test_RMSE               Test_MAPE  \n",
       "0 823740546446817.750000 8813188496313817.000000  \n",
       "1             211.174300             3058.906832  \n",
       "2             211.174300             3059.098040  \n",
       "3             211.174300             3059.214230  \n",
       "4             213.713100             3471.608717  \n",
       "5             211.174300             3058.906832  "
      ]
     },
     "execution_count": 108,
     "metadata": {},
     "output_type": "execute_result"
    }
   ],
   "source": [
    "update_score_card(algorithm_name = 'Ridge Regression (using GridSearchCV)', \n",
    "                  model = ridge_grid, \n",
    "                  alpha = ridge_grid.best_params_.get('alpha'))\n",
    "score_card"
   ]
  },
  {
   "cell_type": "code",
   "execution_count": 119,
   "id": "8161b0cf",
   "metadata": {},
   "outputs": [
    {
     "name": "stdout",
     "output_type": "stream",
     "text": [
      "Best parameters for Lasso Regression:  {'alpha': 1e-15} \n",
      "\n",
      "RMSE on test set: 211.1743\n"
     ]
    }
   ],
   "source": [
    "from sklearn.model_selection import RepeatedKFold\n",
    "cv = RepeatedKFold(n_splits=10, n_repeats=3, random_state=1)\n",
    "tuned_paramaters = [{'alpha':[1e-15, 1e-10, 1e-8, 0.0001, 0.001, 0.01, 0.1, 1, 5, 10, 20]}]\n",
    "lasso = Lasso()\n",
    "lasso_grid = GridSearchCV(estimator = lasso, \n",
    "                          param_grid = tuned_paramaters, \n",
    "                          cv = cv)\n",
    "lasso_grid.fit(x_train, y_train)\n",
    "print('Best parameters for Lasso Regression: ', lasso_grid.best_params_, '\\n')\n",
    "print('RMSE on test set:', get_test_rmse(lasso_grid))"
   ]
  },
  {
   "cell_type": "code",
   "execution_count": 120,
   "id": "6520569b",
   "metadata": {},
   "outputs": [
    {
     "data": {
      "text/html": [
       "<div>\n",
       "<style scoped>\n",
       "    .dataframe tbody tr th:only-of-type {\n",
       "        vertical-align: middle;\n",
       "    }\n",
       "\n",
       "    .dataframe tbody tr th {\n",
       "        vertical-align: top;\n",
       "    }\n",
       "\n",
       "    .dataframe thead th {\n",
       "        text-align: right;\n",
       "    }\n",
       "</style>\n",
       "<table border=\"1\" class=\"dataframe\">\n",
       "  <thead>\n",
       "    <tr style=\"text-align: right;\">\n",
       "      <th></th>\n",
       "      <th>Model_Name</th>\n",
       "      <th>Alpha (Wherever Required)</th>\n",
       "      <th>l1-ratio</th>\n",
       "      <th>R-Squared</th>\n",
       "      <th>Adj. R-Squared</th>\n",
       "      <th>Test_RMSE</th>\n",
       "      <th>Test_MAPE</th>\n",
       "    </tr>\n",
       "  </thead>\n",
       "  <tbody>\n",
       "    <tr>\n",
       "      <th>0</th>\n",
       "      <td>Ridge Regression (with alpha = 1)</td>\n",
       "      <td>1</td>\n",
       "      <td>-</td>\n",
       "      <td>0.169161</td>\n",
       "      <td>0.169012</td>\n",
       "      <td>211.174300</td>\n",
       "      <td>3058.906832</td>\n",
       "    </tr>\n",
       "    <tr>\n",
       "      <th>1</th>\n",
       "      <td>Ridge Regression (with alpha = 2)</td>\n",
       "      <td>2</td>\n",
       "      <td>-</td>\n",
       "      <td>0.169161</td>\n",
       "      <td>0.169012</td>\n",
       "      <td>211.174300</td>\n",
       "      <td>3059.098040</td>\n",
       "    </tr>\n",
       "    <tr>\n",
       "      <th>2</th>\n",
       "      <td>Lasso Regression</td>\n",
       "      <td>0.01</td>\n",
       "      <td>-</td>\n",
       "      <td>0.169161</td>\n",
       "      <td>0.169012</td>\n",
       "      <td>211.174300</td>\n",
       "      <td>3059.214230</td>\n",
       "    </tr>\n",
       "    <tr>\n",
       "      <th>3</th>\n",
       "      <td>Ridge Regression (using GridSearchCV)</td>\n",
       "      <td>1</td>\n",
       "      <td>-</td>\n",
       "      <td>0.169161</td>\n",
       "      <td>0.169012</td>\n",
       "      <td>211.174300</td>\n",
       "      <td>3058.906832</td>\n",
       "    </tr>\n",
       "    <tr>\n",
       "      <th>4</th>\n",
       "      <td>Lasso Regression (using GridSearchCV)</td>\n",
       "      <td>0.000000</td>\n",
       "      <td>-</td>\n",
       "      <td>0.169161</td>\n",
       "      <td>0.169012</td>\n",
       "      <td>211.174300</td>\n",
       "      <td>3058.715530</td>\n",
       "    </tr>\n",
       "    <tr>\n",
       "      <th>5</th>\n",
       "      <td>Elastic Net Regression (using GridSearchCV)</td>\n",
       "      <td>0.000100</td>\n",
       "      <td>0.200000</td>\n",
       "      <td>0.169161</td>\n",
       "      <td>0.169012</td>\n",
       "      <td>211.174400</td>\n",
       "      <td>3059.395970</td>\n",
       "    </tr>\n",
       "    <tr>\n",
       "      <th>6</th>\n",
       "      <td>Elastic Net Regression</td>\n",
       "      <td>0.1</td>\n",
       "      <td>0.01</td>\n",
       "      <td>0.149241</td>\n",
       "      <td>0.149087</td>\n",
       "      <td>213.713100</td>\n",
       "      <td>3471.608717</td>\n",
       "    </tr>\n",
       "    <tr>\n",
       "      <th>7</th>\n",
       "      <td>Linear Regression (using SGD)</td>\n",
       "      <td>-</td>\n",
       "      <td>-</td>\n",
       "      <td>-13371277023631541723463680.000000</td>\n",
       "      <td>-13373685449077653229273088.000000</td>\n",
       "      <td>823740546446817.750000</td>\n",
       "      <td>8813188496313817.000000</td>\n",
       "    </tr>\n",
       "    <tr>\n",
       "      <th>8</th>\n",
       "      <td>Lasso Regression (using GridSearchCV)</td>\n",
       "      <td>0.000000</td>\n",
       "      <td>-</td>\n",
       "      <td>0.169161</td>\n",
       "      <td>0.169012</td>\n",
       "      <td>211.174300</td>\n",
       "      <td>3058.715530</td>\n",
       "    </tr>\n",
       "  </tbody>\n",
       "</table>\n",
       "</div>"
      ],
      "text/plain": [
       "                                    Model_Name Alpha (Wherever Required)  \\\n",
       "0            Ridge Regression (with alpha = 1)                         1   \n",
       "1            Ridge Regression (with alpha = 2)                         2   \n",
       "2                             Lasso Regression                      0.01   \n",
       "3        Ridge Regression (using GridSearchCV)                         1   \n",
       "4        Lasso Regression (using GridSearchCV)                  0.000000   \n",
       "5  Elastic Net Regression (using GridSearchCV)                  0.000100   \n",
       "6                       Elastic Net Regression                       0.1   \n",
       "7                Linear Regression (using SGD)                         -   \n",
       "8        Lasso Regression (using GridSearchCV)                  0.000000   \n",
       "\n",
       "  l1-ratio                          R-Squared  \\\n",
       "0        -                           0.169161   \n",
       "1        -                           0.169161   \n",
       "2        -                           0.169161   \n",
       "3        -                           0.169161   \n",
       "4        -                           0.169161   \n",
       "5 0.200000                           0.169161   \n",
       "6     0.01                           0.149241   \n",
       "7        - -13371277023631541723463680.000000   \n",
       "8        -                           0.169161   \n",
       "\n",
       "                      Adj. R-Squared              Test_RMSE  \\\n",
       "0                           0.169012             211.174300   \n",
       "1                           0.169012             211.174300   \n",
       "2                           0.169012             211.174300   \n",
       "3                           0.169012             211.174300   \n",
       "4                           0.169012             211.174300   \n",
       "5                           0.169012             211.174400   \n",
       "6                           0.149087             213.713100   \n",
       "7 -13373685449077653229273088.000000 823740546446817.750000   \n",
       "8                           0.169012             211.174300   \n",
       "\n",
       "                Test_MAPE  \n",
       "0             3058.906832  \n",
       "1             3059.098040  \n",
       "2             3059.214230  \n",
       "3             3058.906832  \n",
       "4             3058.715530  \n",
       "5             3059.395970  \n",
       "6             3471.608717  \n",
       "7 8813188496313817.000000  \n",
       "8             3058.715530  "
      ]
     },
     "execution_count": 120,
     "metadata": {},
     "output_type": "execute_result"
    }
   ],
   "source": [
    "update_score_card(algorithm_name = 'Lasso Regression (using GridSearchCV)', \n",
    "                  model = lasso_grid, \n",
    "                  alpha = lasso_grid.best_params_.get('alpha'))\n",
    "score_card"
   ]
  },
  {
   "cell_type": "code",
   "execution_count": 111,
   "id": "c631b9a2",
   "metadata": {},
   "outputs": [
    {
     "name": "stdout",
     "output_type": "stream",
     "text": [
      "Best parameters for Elastic Net Regression:  {'alpha': 0.0001, 'l1_ratio': 0.2} \n",
      "\n",
      "RMSE on test set: 211.1744\n"
     ]
    }
   ],
   "source": [
    "tuned_paramaters = [{'alpha':[0.0001, 0.001, 0.01, 0.1, 1, 5, 10, 20, 40, 60],\n",
    "                      'l1_ratio':[0.0001, 0.0002, 0.001, 0.01, 0.1, 0.2]}] \n",
    "enet = ElasticNet()\n",
    "enet_grid = GridSearchCV(estimator = enet, \n",
    "                          param_grid = tuned_paramaters, \n",
    "                          cv = 10)\n",
    "enet_grid.fit(x_train, y_train)\n",
    "print('Best parameters for Elastic Net Regression: ', enet_grid.best_params_, '\\n')\n",
    "print('RMSE on test set:', get_test_rmse(enet_grid))"
   ]
  },
  {
   "cell_type": "code",
   "execution_count": 112,
   "id": "f28627a9",
   "metadata": {},
   "outputs": [
    {
     "data": {
      "text/html": [
       "<div>\n",
       "<style scoped>\n",
       "    .dataframe tbody tr th:only-of-type {\n",
       "        vertical-align: middle;\n",
       "    }\n",
       "\n",
       "    .dataframe tbody tr th {\n",
       "        vertical-align: top;\n",
       "    }\n",
       "\n",
       "    .dataframe thead th {\n",
       "        text-align: right;\n",
       "    }\n",
       "</style>\n",
       "<table border=\"1\" class=\"dataframe\">\n",
       "  <thead>\n",
       "    <tr style=\"text-align: right;\">\n",
       "      <th></th>\n",
       "      <th>Model_Name</th>\n",
       "      <th>Alpha (Wherever Required)</th>\n",
       "      <th>l1-ratio</th>\n",
       "      <th>R-Squared</th>\n",
       "      <th>Adj. R-Squared</th>\n",
       "      <th>Test_RMSE</th>\n",
       "      <th>Test_MAPE</th>\n",
       "    </tr>\n",
       "  </thead>\n",
       "  <tbody>\n",
       "    <tr>\n",
       "      <th>0</th>\n",
       "      <td>Linear Regression (using SGD)</td>\n",
       "      <td>-</td>\n",
       "      <td>-</td>\n",
       "      <td>-13371277023631541723463680.000000</td>\n",
       "      <td>-13373685449077653229273088.000000</td>\n",
       "      <td>823740546446817.750000</td>\n",
       "      <td>8813188496313817.000000</td>\n",
       "    </tr>\n",
       "    <tr>\n",
       "      <th>1</th>\n",
       "      <td>Ridge Regression (with alpha = 1)</td>\n",
       "      <td>1</td>\n",
       "      <td>-</td>\n",
       "      <td>0.169161</td>\n",
       "      <td>0.169012</td>\n",
       "      <td>211.174300</td>\n",
       "      <td>3058.906832</td>\n",
       "    </tr>\n",
       "    <tr>\n",
       "      <th>2</th>\n",
       "      <td>Ridge Regression (with alpha = 2)</td>\n",
       "      <td>2</td>\n",
       "      <td>-</td>\n",
       "      <td>0.169161</td>\n",
       "      <td>0.169012</td>\n",
       "      <td>211.174300</td>\n",
       "      <td>3059.098040</td>\n",
       "    </tr>\n",
       "    <tr>\n",
       "      <th>3</th>\n",
       "      <td>Lasso Regression</td>\n",
       "      <td>0.01</td>\n",
       "      <td>-</td>\n",
       "      <td>0.169161</td>\n",
       "      <td>0.169012</td>\n",
       "      <td>211.174300</td>\n",
       "      <td>3059.214230</td>\n",
       "    </tr>\n",
       "    <tr>\n",
       "      <th>4</th>\n",
       "      <td>Elastic Net Regression</td>\n",
       "      <td>0.1</td>\n",
       "      <td>0.01</td>\n",
       "      <td>0.149241</td>\n",
       "      <td>0.149087</td>\n",
       "      <td>213.713100</td>\n",
       "      <td>3471.608717</td>\n",
       "    </tr>\n",
       "    <tr>\n",
       "      <th>5</th>\n",
       "      <td>Ridge Regression (using GridSearchCV)</td>\n",
       "      <td>1</td>\n",
       "      <td>-</td>\n",
       "      <td>0.169161</td>\n",
       "      <td>0.169012</td>\n",
       "      <td>211.174300</td>\n",
       "      <td>3058.906832</td>\n",
       "    </tr>\n",
       "    <tr>\n",
       "      <th>6</th>\n",
       "      <td>Lasso Regression (using GridSearchCV)</td>\n",
       "      <td>0.000000</td>\n",
       "      <td>-</td>\n",
       "      <td>0.169161</td>\n",
       "      <td>0.169012</td>\n",
       "      <td>211.174300</td>\n",
       "      <td>3058.715530</td>\n",
       "    </tr>\n",
       "    <tr>\n",
       "      <th>7</th>\n",
       "      <td>Elastic Net Regression (using GridSearchCV)</td>\n",
       "      <td>0.000100</td>\n",
       "      <td>0.200000</td>\n",
       "      <td>0.169161</td>\n",
       "      <td>0.169012</td>\n",
       "      <td>211.174400</td>\n",
       "      <td>3059.395970</td>\n",
       "    </tr>\n",
       "  </tbody>\n",
       "</table>\n",
       "</div>"
      ],
      "text/plain": [
       "                                    Model_Name Alpha (Wherever Required)  \\\n",
       "0                Linear Regression (using SGD)                         -   \n",
       "1            Ridge Regression (with alpha = 1)                         1   \n",
       "2            Ridge Regression (with alpha = 2)                         2   \n",
       "3                             Lasso Regression                      0.01   \n",
       "4                       Elastic Net Regression                       0.1   \n",
       "5        Ridge Regression (using GridSearchCV)                         1   \n",
       "6        Lasso Regression (using GridSearchCV)                  0.000000   \n",
       "7  Elastic Net Regression (using GridSearchCV)                  0.000100   \n",
       "\n",
       "  l1-ratio                          R-Squared  \\\n",
       "0        - -13371277023631541723463680.000000   \n",
       "1        -                           0.169161   \n",
       "2        -                           0.169161   \n",
       "3        -                           0.169161   \n",
       "4     0.01                           0.149241   \n",
       "5        -                           0.169161   \n",
       "6        -                           0.169161   \n",
       "7 0.200000                           0.169161   \n",
       "\n",
       "                      Adj. R-Squared              Test_RMSE  \\\n",
       "0 -13373685449077653229273088.000000 823740546446817.750000   \n",
       "1                           0.169012             211.174300   \n",
       "2                           0.169012             211.174300   \n",
       "3                           0.169012             211.174300   \n",
       "4                           0.149087             213.713100   \n",
       "5                           0.169012             211.174300   \n",
       "6                           0.169012             211.174300   \n",
       "7                           0.169012             211.174400   \n",
       "\n",
       "                Test_MAPE  \n",
       "0 8813188496313817.000000  \n",
       "1             3058.906832  \n",
       "2             3059.098040  \n",
       "3             3059.214230  \n",
       "4             3471.608717  \n",
       "5             3058.906832  \n",
       "6             3058.715530  \n",
       "7             3059.395970  "
      ]
     },
     "execution_count": 112,
     "metadata": {},
     "output_type": "execute_result"
    }
   ],
   "source": [
    "update_score_card(algorithm_name = 'Elastic Net Regression (using GridSearchCV)', \n",
    "                  model = enet_grid, \n",
    "                  alpha = enet_grid.best_params_.get('alpha'), \n",
    "                  l1_ratio = enet_grid.best_params_.get('l1_ratio'))\n",
    "score_card"
   ]
  },
  {
   "cell_type": "code",
   "execution_count": 113,
   "id": "4d43f806",
   "metadata": {
    "scrolled": true
   },
   "outputs": [
    {
     "data": {
      "text/html": [
       "<style type=\"text/css\">\n",
       "#T_d8fef_row0_col5, #T_d8fef_row1_col5, #T_d8fef_row2_col5, #T_d8fef_row3_col5, #T_d8fef_row4_col5 {\n",
       "  background-color: lightblue;\n",
       "}\n",
       "</style>\n",
       "<table id=\"T_d8fef\">\n",
       "  <thead>\n",
       "    <tr>\n",
       "      <th class=\"blank level0\" >&nbsp;</th>\n",
       "      <th id=\"T_d8fef_level0_col0\" class=\"col_heading level0 col0\" >Model_Name</th>\n",
       "      <th id=\"T_d8fef_level0_col1\" class=\"col_heading level0 col1\" >Alpha (Wherever Required)</th>\n",
       "      <th id=\"T_d8fef_level0_col2\" class=\"col_heading level0 col2\" >l1-ratio</th>\n",
       "      <th id=\"T_d8fef_level0_col3\" class=\"col_heading level0 col3\" >R-Squared</th>\n",
       "      <th id=\"T_d8fef_level0_col4\" class=\"col_heading level0 col4\" >Adj. R-Squared</th>\n",
       "      <th id=\"T_d8fef_level0_col5\" class=\"col_heading level0 col5\" >Test_RMSE</th>\n",
       "      <th id=\"T_d8fef_level0_col6\" class=\"col_heading level0 col6\" >Test_MAPE</th>\n",
       "    </tr>\n",
       "  </thead>\n",
       "  <tbody>\n",
       "    <tr>\n",
       "      <th id=\"T_d8fef_level0_row0\" class=\"row_heading level0 row0\" >0</th>\n",
       "      <td id=\"T_d8fef_row0_col0\" class=\"data row0 col0\" >Ridge Regression (with alpha = 1)</td>\n",
       "      <td id=\"T_d8fef_row0_col1\" class=\"data row0 col1\" >1</td>\n",
       "      <td id=\"T_d8fef_row0_col2\" class=\"data row0 col2\" >-</td>\n",
       "      <td id=\"T_d8fef_row0_col3\" class=\"data row0 col3\" >0.169161</td>\n",
       "      <td id=\"T_d8fef_row0_col4\" class=\"data row0 col4\" >0.169012</td>\n",
       "      <td id=\"T_d8fef_row0_col5\" class=\"data row0 col5\" >211.174300</td>\n",
       "      <td id=\"T_d8fef_row0_col6\" class=\"data row0 col6\" >3058.906832</td>\n",
       "    </tr>\n",
       "    <tr>\n",
       "      <th id=\"T_d8fef_level0_row1\" class=\"row_heading level0 row1\" >1</th>\n",
       "      <td id=\"T_d8fef_row1_col0\" class=\"data row1 col0\" >Ridge Regression (with alpha = 2)</td>\n",
       "      <td id=\"T_d8fef_row1_col1\" class=\"data row1 col1\" >2</td>\n",
       "      <td id=\"T_d8fef_row1_col2\" class=\"data row1 col2\" >-</td>\n",
       "      <td id=\"T_d8fef_row1_col3\" class=\"data row1 col3\" >0.169161</td>\n",
       "      <td id=\"T_d8fef_row1_col4\" class=\"data row1 col4\" >0.169012</td>\n",
       "      <td id=\"T_d8fef_row1_col5\" class=\"data row1 col5\" >211.174300</td>\n",
       "      <td id=\"T_d8fef_row1_col6\" class=\"data row1 col6\" >3059.098040</td>\n",
       "    </tr>\n",
       "    <tr>\n",
       "      <th id=\"T_d8fef_level0_row2\" class=\"row_heading level0 row2\" >2</th>\n",
       "      <td id=\"T_d8fef_row2_col0\" class=\"data row2 col0\" >Lasso Regression</td>\n",
       "      <td id=\"T_d8fef_row2_col1\" class=\"data row2 col1\" >0.01</td>\n",
       "      <td id=\"T_d8fef_row2_col2\" class=\"data row2 col2\" >-</td>\n",
       "      <td id=\"T_d8fef_row2_col3\" class=\"data row2 col3\" >0.169161</td>\n",
       "      <td id=\"T_d8fef_row2_col4\" class=\"data row2 col4\" >0.169012</td>\n",
       "      <td id=\"T_d8fef_row2_col5\" class=\"data row2 col5\" >211.174300</td>\n",
       "      <td id=\"T_d8fef_row2_col6\" class=\"data row2 col6\" >3059.214230</td>\n",
       "    </tr>\n",
       "    <tr>\n",
       "      <th id=\"T_d8fef_level0_row3\" class=\"row_heading level0 row3\" >3</th>\n",
       "      <td id=\"T_d8fef_row3_col0\" class=\"data row3 col0\" >Ridge Regression (using GridSearchCV)</td>\n",
       "      <td id=\"T_d8fef_row3_col1\" class=\"data row3 col1\" >1</td>\n",
       "      <td id=\"T_d8fef_row3_col2\" class=\"data row3 col2\" >-</td>\n",
       "      <td id=\"T_d8fef_row3_col3\" class=\"data row3 col3\" >0.169161</td>\n",
       "      <td id=\"T_d8fef_row3_col4\" class=\"data row3 col4\" >0.169012</td>\n",
       "      <td id=\"T_d8fef_row3_col5\" class=\"data row3 col5\" >211.174300</td>\n",
       "      <td id=\"T_d8fef_row3_col6\" class=\"data row3 col6\" >3058.906832</td>\n",
       "    </tr>\n",
       "    <tr>\n",
       "      <th id=\"T_d8fef_level0_row4\" class=\"row_heading level0 row4\" >4</th>\n",
       "      <td id=\"T_d8fef_row4_col0\" class=\"data row4 col0\" >Lasso Regression (using GridSearchCV)</td>\n",
       "      <td id=\"T_d8fef_row4_col1\" class=\"data row4 col1\" >0.000000</td>\n",
       "      <td id=\"T_d8fef_row4_col2\" class=\"data row4 col2\" >-</td>\n",
       "      <td id=\"T_d8fef_row4_col3\" class=\"data row4 col3\" >0.169161</td>\n",
       "      <td id=\"T_d8fef_row4_col4\" class=\"data row4 col4\" >0.169012</td>\n",
       "      <td id=\"T_d8fef_row4_col5\" class=\"data row4 col5\" >211.174300</td>\n",
       "      <td id=\"T_d8fef_row4_col6\" class=\"data row4 col6\" >3058.715530</td>\n",
       "    </tr>\n",
       "    <tr>\n",
       "      <th id=\"T_d8fef_level0_row5\" class=\"row_heading level0 row5\" >5</th>\n",
       "      <td id=\"T_d8fef_row5_col0\" class=\"data row5 col0\" >Elastic Net Regression (using GridSearchCV)</td>\n",
       "      <td id=\"T_d8fef_row5_col1\" class=\"data row5 col1\" >0.000100</td>\n",
       "      <td id=\"T_d8fef_row5_col2\" class=\"data row5 col2\" >0.200000</td>\n",
       "      <td id=\"T_d8fef_row5_col3\" class=\"data row5 col3\" >0.169161</td>\n",
       "      <td id=\"T_d8fef_row5_col4\" class=\"data row5 col4\" >0.169012</td>\n",
       "      <td id=\"T_d8fef_row5_col5\" class=\"data row5 col5\" >211.174400</td>\n",
       "      <td id=\"T_d8fef_row5_col6\" class=\"data row5 col6\" >3059.395970</td>\n",
       "    </tr>\n",
       "    <tr>\n",
       "      <th id=\"T_d8fef_level0_row6\" class=\"row_heading level0 row6\" >6</th>\n",
       "      <td id=\"T_d8fef_row6_col0\" class=\"data row6 col0\" >Elastic Net Regression</td>\n",
       "      <td id=\"T_d8fef_row6_col1\" class=\"data row6 col1\" >0.1</td>\n",
       "      <td id=\"T_d8fef_row6_col2\" class=\"data row6 col2\" >0.01</td>\n",
       "      <td id=\"T_d8fef_row6_col3\" class=\"data row6 col3\" >0.149241</td>\n",
       "      <td id=\"T_d8fef_row6_col4\" class=\"data row6 col4\" >0.149087</td>\n",
       "      <td id=\"T_d8fef_row6_col5\" class=\"data row6 col5\" >213.713100</td>\n",
       "      <td id=\"T_d8fef_row6_col6\" class=\"data row6 col6\" >3471.608717</td>\n",
       "    </tr>\n",
       "    <tr>\n",
       "      <th id=\"T_d8fef_level0_row7\" class=\"row_heading level0 row7\" >7</th>\n",
       "      <td id=\"T_d8fef_row7_col0\" class=\"data row7 col0\" >Linear Regression (using SGD)</td>\n",
       "      <td id=\"T_d8fef_row7_col1\" class=\"data row7 col1\" >-</td>\n",
       "      <td id=\"T_d8fef_row7_col2\" class=\"data row7 col2\" >-</td>\n",
       "      <td id=\"T_d8fef_row7_col3\" class=\"data row7 col3\" >-13371277023631541723463680.000000</td>\n",
       "      <td id=\"T_d8fef_row7_col4\" class=\"data row7 col4\" >-13373685449077653229273088.000000</td>\n",
       "      <td id=\"T_d8fef_row7_col5\" class=\"data row7 col5\" >823740546446817.750000</td>\n",
       "      <td id=\"T_d8fef_row7_col6\" class=\"data row7 col6\" >8813188496313817.000000</td>\n",
       "    </tr>\n",
       "  </tbody>\n",
       "</table>\n"
      ],
      "text/plain": [
       "<pandas.io.formats.style.Styler at 0x1cfb7b57760>"
      ]
     },
     "execution_count": 113,
     "metadata": {},
     "output_type": "execute_result"
    }
   ],
   "source": [
    "score_card = score_card.sort_values('Test_RMSE').reset_index(drop = True)\n",
    "score_card.style.highlight_min(color = 'lightblue', subset = 'Test_RMSE')"
   ]
  },
  {
   "cell_type": "markdown",
   "id": "7142f3cf",
   "metadata": {},
   "source": [
    "We can see that Lasso Regression (using GridSearchCV) has the lowest test RMSE ans test MAPE. "
   ]
  },
  {
   "cell_type": "code",
   "execution_count": 118,
   "id": "a04f10f7",
   "metadata": {},
   "outputs": [
    {
     "name": "stdout",
     "output_type": "stream",
     "text": [
      "RMSE on test set: 211.1743\n"
     ]
    }
   ],
   "source": [
    "lasso = Lasso(alpha = 0.0000000000000001, max_iter = 500)\n",
    "# lasso.fit(x_train, y_train)\n"
   ]
  },
  {
   "cell_type": "code",
   "execution_count": 137,
   "id": "d5aaac92",
   "metadata": {},
   "outputs": [],
   "source": [
    "lasso_forward = sfs(estimator = lasso, k_features = 'best', forward = True,\n",
    "                     verbose = 2, scoring = 'r2')"
   ]
  },
  {
   "cell_type": "code",
   "execution_count": 138,
   "id": "db29ef1d",
   "metadata": {},
   "outputs": [
    {
     "name": "stderr",
     "output_type": "stream",
     "text": [
      "[Parallel(n_jobs=1)]: Using backend SequentialBackend with 1 concurrent workers.\n",
      "[Parallel(n_jobs=1)]: Done   1 out of   1 | elapsed:    0.0s remaining:    0.0s\n",
      "[Parallel(n_jobs=1)]: Done   8 out of   8 | elapsed:    0.1s finished\n",
      "\n",
      "[2023-05-12 16:02:07] Features: 1/8 -- score: 0.05626940883500742[Parallel(n_jobs=1)]: Using backend SequentialBackend with 1 concurrent workers.\n",
      "[Parallel(n_jobs=1)]: Done   1 out of   1 | elapsed:    0.0s remaining:    0.0s\n",
      "[Parallel(n_jobs=1)]: Done   7 out of   7 | elapsed:    0.1s finished\n",
      "\n",
      "[2023-05-12 16:02:07] Features: 2/8 -- score: 0.13181943151697378[Parallel(n_jobs=1)]: Using backend SequentialBackend with 1 concurrent workers.\n",
      "[Parallel(n_jobs=1)]: Done   1 out of   1 | elapsed:    0.0s remaining:    0.0s\n",
      "[Parallel(n_jobs=1)]: Done   6 out of   6 | elapsed:    0.1s finished\n",
      "\n",
      "[2023-05-12 16:02:07] Features: 3/8 -- score: 0.1632575326388394[Parallel(n_jobs=1)]: Using backend SequentialBackend with 1 concurrent workers.\n",
      "[Parallel(n_jobs=1)]: Done   1 out of   1 | elapsed:    0.0s remaining:    0.0s\n",
      "[Parallel(n_jobs=1)]: Done   5 out of   5 | elapsed:    0.1s finished\n",
      "\n",
      "[2023-05-12 16:02:07] Features: 4/8 -- score: 0.16683181716288703[Parallel(n_jobs=1)]: Using backend SequentialBackend with 1 concurrent workers.\n",
      "[Parallel(n_jobs=1)]: Done   1 out of   1 | elapsed:    0.0s remaining:    0.0s\n",
      "[Parallel(n_jobs=1)]: Done   4 out of   4 | elapsed:    0.1s finished\n",
      "\n",
      "[2023-05-12 16:02:07] Features: 5/8 -- score: 0.1677366157709354[Parallel(n_jobs=1)]: Using backend SequentialBackend with 1 concurrent workers.\n",
      "[Parallel(n_jobs=1)]: Done   1 out of   1 | elapsed:    0.0s remaining:    0.0s\n",
      "[Parallel(n_jobs=1)]: Done   3 out of   3 | elapsed:    0.1s finished\n",
      "\n",
      "[2023-05-12 16:02:08] Features: 6/8 -- score: 0.16859660599441173[Parallel(n_jobs=1)]: Using backend SequentialBackend with 1 concurrent workers.\n",
      "[Parallel(n_jobs=1)]: Done   1 out of   1 | elapsed:    0.0s remaining:    0.0s\n",
      "[Parallel(n_jobs=1)]: Done   2 out of   2 | elapsed:    0.1s finished\n",
      "\n",
      "[2023-05-12 16:02:08] Features: 7/8 -- score: 0.16861821672720792[Parallel(n_jobs=1)]: Using backend SequentialBackend with 1 concurrent workers.\n",
      "[Parallel(n_jobs=1)]: Done   1 out of   1 | elapsed:    0.0s remaining:    0.0s\n",
      "[Parallel(n_jobs=1)]: Done   1 out of   1 | elapsed:    0.0s finished\n",
      "\n",
      "[2023-05-12 16:02:08] Features: 8/8 -- score: 0.16836442326013001"
     ]
    }
   ],
   "source": [
    "abc = lasso_forward.fit(x_train, y_train)\n",
    "# print('RMSE on test set:', get_test_rmse(lasso_forward))"
   ]
  },
  {
   "cell_type": "code",
   "execution_count": 139,
   "id": "d5888c3e",
   "metadata": {},
   "outputs": [
    {
     "name": "stdout",
     "output_type": "stream",
     "text": [
      "Features selelected using forward selection are: \n",
      "('online_order', 'book_table', 'rate', 'location', 'rest_type', 'cuisines', 'menu_item')\n",
      "\n",
      "R-Squared:  0.16861821672720792\n"
     ]
    }
   ],
   "source": [
    "# print the selected feature names when k_features = 12\n",
    "print('Features selelected using forward selection are: ')\n",
    "print(abc.k_feature_names_)\n",
    "\n",
    "# print the R-squared value\n",
    "print('\\nR-Squared: ', abc.k_score_)"
   ]
  }
 ],
 "metadata": {
  "kernelspec": {
   "display_name": "Python 3 (ipykernel)",
   "language": "python",
   "name": "python3"
  },
  "language_info": {
   "codemirror_mode": {
    "name": "ipython",
    "version": 3
   },
   "file_extension": ".py",
   "mimetype": "text/x-python",
   "name": "python",
   "nbconvert_exporter": "python",
   "pygments_lexer": "ipython3",
   "version": "3.9.12"
  }
 },
 "nbformat": 4,
 "nbformat_minor": 5
}

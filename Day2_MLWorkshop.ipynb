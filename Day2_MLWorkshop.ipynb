{
  "nbformat": 4,
  "nbformat_minor": 0,
  "metadata": {
    "colab": {
      "provenance": [],
      "authorship_tag": "ABX9TyMBWR2aLnRVCO1pu+AVA0wb",
      "include_colab_link": true
    },
    "kernelspec": {
      "name": "python3",
      "display_name": "Python 3"
    },
    "language_info": {
      "name": "python"
    }
  },
  "cells": [
    {
      "cell_type": "markdown",
      "metadata": {
        "id": "view-in-github",
        "colab_type": "text"
      },
      "source": [
        "<a href=\"https://colab.research.google.com/github/ranga-godhandaraman/SLR_zomato/blob/main/Day2_MLWorkshop.ipynb\" target=\"_parent\"><img src=\"https://colab.research.google.com/assets/colab-badge.svg\" alt=\"Open In Colab\"/></a>"
      ]
    },
    {
      "cell_type": "code",
      "source": [
        "#https://www.kaggle.com/datasets/rangabashyamg/zomato-cleaned"
      ],
      "metadata": {
        "id": "ucn4GVQqa6fO"
      },
      "execution_count": null,
      "outputs": []
    },
    {
      "cell_type": "markdown",
      "source": [
        "#Linear Regression"
      ],
      "metadata": {
        "id": "06848MBkQAAR"
      }
    },
    {
      "cell_type": "markdown",
      "source": [
        "## Step 1: Understand the business problem."
      ],
      "metadata": {
        "id": "BxnKvtSdQIur"
      }
    },
    {
      "cell_type": "markdown",
      "source": [
        "1. URL - Website of the Zomato for each restaurant. - Object datatype\n",
        "2. Address - Address of the Restaurant. - Object datatype\n",
        "3. Name - Name of the restaurant. - Object datatype\n",
        "4. Online Order - The customer ordered the menu online or not. - Object datatype\n",
        "5. Book table - The customer has booked the table or not. - Object datatype\n",
        "6. Rate - Rating of the restaurant that has by the customer. - Numerical datatype\n",
        "7. Votes - The votes have been given by the customer to the restaurant. - Numerical\n",
        "datatype\n",
        "8. Phone - Contact number of the Restaurant. - Object datatype\n",
        "9. Location - The city name where the restaurant is located. - Object datatype\n",
        "10. Rest Type - The type of restaurant. - Object datatype\n",
        "11. Dish liked - Dishes liked by the customer from the restaurant. - Object datatype\n",
        "12. Cuisines - The cuisines that have been prepared by the restaurant. - Object datatype\n",
        "13. Approx Cost for two people - The approximate cost of the customer for 2 people. -\n",
        "Number datatype\n",
        "14. Reviews list - The reviews made by the customers on the restaurant. - Object\n",
        "datatype\n",
        "15. Menu Item - The menu items that are usually available at the restaurant. - Object\n",
        "datatype\n",
        "16. Listed in (type) - Contains the type of the meal. - Object datatype\n",
        "17. Listed in (city) - This contains the neighborhood in which the restaurant is listed. -\n",
        "Object datatype"
      ],
      "metadata": {
        "id": "xVyl-Zq0QOYt"
      }
    },
    {
      "cell_type": "code",
      "execution_count": null,
      "metadata": {
        "id": "hAoBgNqbTMbI"
      },
      "outputs": [],
      "source": [
        "import pandas as pd\n",
        "import numpy as np\n",
        "\n",
        "import matplotlib.pyplot as plt\n",
        "import seaborn as sns\n",
        "\n",
        "import warnings\n",
        "warnings.filterwarnings(\"ignore\")\n",
        "\n",
        "# display all columns of the dataframe\n",
        "pd.options.display.max_columns = None\n",
        "\n",
        "# display all rows of the dataframe\n",
        "pd.options.display.max_rows = None\n",
        "\n",
        "# to display the float values upto 6 decimal places\n",
        "pd.options.display.float_format = '{:.6f}'.format\n",
        "from statsmodels.tools.eval_measures import rmse\n",
        "from sklearn.metrics import mean_absolute_error\n",
        "from sklearn.metrics import mean_squared_error\n",
        "from sklearn.preprocessing import StandardScaler\n",
        "from sklearn.linear_model import LinearRegression\n",
        "from sklearn.model_selection import cross_val_score\n",
        "from sklearn.metrics import r2_score\n",
        "import warnings\n",
        "warnings.filterwarnings('ignore')\n",
        "%matplotlib inline\n",
        "\n",
        "from sklearn.linear_model import LinearRegression\n",
        "\n",
        "# import StandardScaler to perform scaling\n",
        "from sklearn.preprocessing import StandardScaler\n",
        "\n",
        "# import SGDRegressor from sklearn to perform linear regression with stochastic gradient descent\n",
        "from sklearn.linear_model import SGDRegressor\n",
        "\n",
        "# import function for ridge regression\n",
        "from sklearn.linear_model import Ridge\n",
        "\n",
        "# import function for lasso regression\n",
        "from sklearn.linear_model import Lasso\n",
        "\n",
        "# import function for elastic net regression\n",
        "from sklearn.linear_model import ElasticNet\n",
        "\n",
        "# import function to perform GridSearchCV\n",
        "from sklearn.model_selection import GridSearchCV\n",
        "\n",
        "from sklearn.feature_selection import SequentialFeatureSelector as sfs"
      ]
    },
    {
      "cell_type": "markdown",
      "source": [
        "## Step 2: Read the data and convert the data types.\n",
        "Note: The data set has numerical and categorical data but due to noise(anomaly) in\n",
        "the data, the columns are treated as the object type. And You may feel like converting the\n",
        "features into numerical at this step if not appropriate at this stage, In that case, feel free to\n",
        "convert the variable to the appropriate type in the further step as well based on your way\n",
        "of analyzing the data.\n"
      ],
      "metadata": {
        "id": "ZDeBdbMXQdrC"
      }
    },
    {
      "cell_type": "code",
      "source": [],
      "metadata": {
        "id": "YtYnK_AoQhox"
      },
      "execution_count": null,
      "outputs": []
    },
    {
      "cell_type": "markdown",
      "source": [
        "### Find:\n",
        "<ol>\n",
        "<li>Shape of the dataset\n",
        "<li>entire Info the dataset\n",
        "<li>Five Point Summary\n",
        "<li>Null values\n",
        "</ol>"
      ],
      "metadata": {
        "id": "IEwE1TCxQmLX"
      }
    },
    {
      "cell_type": "markdown",
      "source": [
        "### We are just gonna perform the ML Part here. Already the dataset is cleaned, Don't worry...\n",
        "### Lets get Started!!"
      ],
      "metadata": {
        "id": "GzHTc7FPRGB-"
      }
    },
    {
      "cell_type": "markdown",
      "source": [
        "## change the string categorical into to a categorical int"
      ],
      "metadata": {
        "id": "mFl5W1KzRrXC"
      }
    },
    {
      "cell_type": "code",
      "source": [
        "#use LabelEncoding to make it easier for building an algorithm\n",
        "#remove the comment to import required libraries\n",
        "#from sklearn.preprocessing import LabelEncoder\n",
        "#After removing the comment, store the function to a variable, Do encoding for all possible cat variables"
      ],
      "metadata": {
        "id": "p-0ToEqiRTia"
      },
      "execution_count": null,
      "outputs": []
    },
    {
      "cell_type": "markdown",
      "source": [
        "##Split the dataset into train and test data sets and Perform the scaling on both sets if necessary"
      ],
      "metadata": {
        "id": "wd190qRvSv83"
      }
    },
    {
      "cell_type": "code",
      "source": [
        "#remove the comment to import required libraries\n",
        "#from sklearn.model_selection import train_test_split"
      ],
      "metadata": {
        "id": "1qCpFyGHS4_0"
      },
      "execution_count": null,
      "outputs": []
    },
    {
      "cell_type": "markdown",
      "source": [
        "## Build the base model"
      ],
      "metadata": {
        "id": "lgCY9ALeTIfD"
      }
    },
    {
      "cell_type": "markdown",
      "source": [
        "Build models like:<br>\n",
        "<ol>\n",
        "<li>Linear Regression\n",
        "<li>Decision trees\n",
        "</ol>\n",
        "There is no Hurry to build too many models! Lets do something different..."
      ],
      "metadata": {
        "id": "LZ2fvtVuTMBM"
      }
    },
    {
      "cell_type": "markdown",
      "source": [
        "##LinearRegression"
      ],
      "metadata": {
        "id": "4ge951qlr8BS"
      }
    },
    {
      "cell_type": "code",
      "source": [
        "#import the required libraries\n",
        "#store it in a variable\n",
        "#Make Predictions\n",
        "#Also get the RMSE & R^2 scores."
      ],
      "metadata": {
        "id": "m3CWLkzXVl8w"
      },
      "execution_count": null,
      "outputs": []
    },
    {
      "cell_type": "markdown",
      "source": [
        "##Decision Tree"
      ],
      "metadata": {
        "id": "KoSOAeGNsHsP"
      }
    },
    {
      "cell_type": "code",
      "source": [
        "#import the required libraries\n",
        "#store it in a variable\n",
        "#Make Predictions\n",
        "#Also get the RMSE & R^2 scores."
      ],
      "metadata": {
        "id": "5WN01fDLsNry"
      },
      "execution_count": null,
      "outputs": []
    },
    {
      "cell_type": "markdown",
      "source": [
        "## Compare the Actuals VS Predicted"
      ],
      "metadata": {
        "id": "5aITngvy9x_z"
      }
    },
    {
      "cell_type": "code",
      "source": [
        "'''Randpred =pd.DataFrame({ \"actual\": y_test, \"pred\": y_predict })\n",
        "Randpred.head()'''"
      ],
      "metadata": {
        "id": "rY_rOul896KE"
      },
      "execution_count": null,
      "outputs": []
    }
  ]
}